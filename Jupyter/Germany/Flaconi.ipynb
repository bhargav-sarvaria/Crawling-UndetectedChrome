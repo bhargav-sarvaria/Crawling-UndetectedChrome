{
  "cells": [
    {
      "cell_type": "code",
      "execution_count": 1,
      "id": "b5b9da08",
      "metadata": {},
      "outputs": [],
      "source": [
        "import undetected_chromedriver.v2 as uc\n",
        "from selenium.webdriver.support.ui import WebDriverWait\n",
        "from selenium.webdriver.support import expected_conditions as EC\n",
        "from selenium.webdriver.common.by import By\n",
        "from selenium.webdriver.common.action_chains import ActionChains\n",
        "from importlib.machinery import SourceFileLoader\n",
        "import time\n",
        "from selenium import webdriver\n",
        "import json"
      ]
    },
    {
      "cell_type": "code",
      "execution_count": 2,
      "id": "fe4d24d3",
      "metadata": {},
      "outputs": [],
      "source": [
        "driver = uc.Chrome()\n",
        "base_url = 'https://www.flaconi.de'\n",
        "driver.get(base_url)"
      ]
    },
    {
      "cell_type": "code",
      "execution_count": 23,
      "id": "7b6b4893",
      "metadata": {},
      "outputs": [],
      "source": [
        "def getFilename(conf):\n",
        "    file_name = page_config['country'] + '_' + page_config['retailer'] + '_' + page_config['department'] + '_' + page_config['category'] + '_' + page_config['page']\n",
        "    for k, v in json.load(open('/Users/bhargavsarvaria/Desktop/Applications/seldoc/config/encoding.json', 'r')).items():\n",
        "        file_name = file_name.replace(k, v)\n",
        "        file_name = file_name.replace('\\\\', '')\n",
        "    return file_name\n",
        "\n",
        "\n",
        "conf = {}\n",
        "conf['country'] = 'Germany'\n",
        "conf['retailer'] = 'Flaconi'\n",
        "conf['parsing_config'] = './retailer_config/flaconide_parsing.json'\n",
        "conf['gcloud_path'] = 'crawl_data/Germany/Flaconi/'\n",
        "page_configs = []"
      ]
    },
    {
      "cell_type": "code",
      "execution_count": 28,
      "id": "16a78955",
      "metadata": {
        "scrolled": true
      },
      "outputs": [
        {
          "name": "stdout",
          "output_type": "stream",
          "text": [
            "SALE | SALE | SALE\n",
            "https://www.flaconi.de/sale/\n",
            "SALE | PERFUME | PERFUME\n",
            "https://www.flaconi.de/sale-parfuem/\n",
            "SALE | PERFUME | women's fragrances\n",
            "https://www.flaconi.de/sale-damenduefte/\n",
            "SALE | PERFUME | men's fragrances\n",
            "https://www.flaconi.de/sale-herrenduefte/\n",
            "SALE | PERFUME | fragrance sets\n",
            "https://www.flaconi.de/sale-duftsets/\n",
            "SALE | CARE | CARE\n",
            "https://www.flaconi.de/sale-pflege/\n",
            "SALE | CARE | facial care\n",
            "https://www.flaconi.de/sale-gesichtspflege/\n",
            "SALE | CARE | personal hygiene\n",
            "https://www.flaconi.de/sale-koerperpflege/\n",
            "SALE | CARE | grooming\n",
            "https://www.flaconi.de/sale-herrenpflege/\n",
            "SALE | MAKE UP | MAKE UP\n",
            "https://www.flaconi.de/sale-make-up/\n",
            "SALE | MAKE UP | complexion\n",
            "https://www.flaconi.de/sale-teint/\n",
            "SALE | MAKE UP | eyes\n",
            "https://www.flaconi.de/sale-augen-make-up/\n",
            "SALE | MAKE UP | lips\n",
            "https://www.flaconi.de/sale-lippen-make-up/\n",
            "SALE | MAKE UP | nails\n",
            "https://www.flaconi.de/sale-nageldesign/\n",
            "SALE | HAIR | HAIR\n",
            "https://www.flaconi.de/sale-haarpflege/\n",
            "SALE | HAIR | Wash & care\n",
            "https://www.flaconi.de/sale-waschen-und-pflegen/\n",
            "SALE | HAIR | hair styling\n",
            "https://www.flaconi.de/sale-haarstyling/\n",
            "SALE | BEAUTY OUTLET | BEAUTY OUTLET\n",
            "https://www.flaconi.de/beauty-outlet/\n",
            "SALE | BEAUTY OUTLET | Perfume outlet\n",
            "https://www.flaconi.de/beauty-outlet-parfum/\n",
            "SALE | BEAUTY OUTLET | Makeup Outlet\n",
            "https://www.flaconi.de/beauty-outlet-make-up/\n",
            "SALE | BEAUTY OUTLET | care outlet\n",
            "https://www.flaconi.de/beauty-outlet-pflege/\n",
            "SALE | BEAUTY OUTLET | Hair care outlet\n",
            "https://www.flaconi.de/beauty-outlet-haarpflege/\n"
          ]
        }
      ],
      "source": [
        "departments = driver.find_elements(By.CLASS_NAME, 'Navigationstyle__ListItem-sc-1r9fvyg-2')[10:11]\n",
        "for department in departments:\n",
        "    department_name = department.find_element(By.XPATH, './a').text\n",
        "    department_url = department.find_element(By.XPATH, './a').get_attribute('href')\n",
        "    print(department_name + ' | ' + department_name + ' | ' + department_name)\n",
        "    print(department_url)\n",
        "    \n",
        "    page_config = conf.copy()            \n",
        "    page_config['department'] = department_name\n",
        "    page_config['category'] = department_name\n",
        "    page_config['page'] = department_name\n",
        "    page_config['page_url'] = department_url\n",
        "    page_config['file_name'] = getFilename(page_config)\n",
        "    page_configs.append(page_config)\n",
        "    \n",
        "    action = ActionChains(driver)\n",
        "    action.move_to_element(department).perform()\n",
        "    time.sleep(0.5)\n",
        "    categories = department.find_elements(By.CLASS_NAME, 'Navigationstyle__CategoryWrapper-sc-1r9fvyg-6')\n",
        "    for category in categories:\n",
        "        if not category.find_elements(By.XPATH, './a'):\n",
        "            continue\n",
        "        category_element = category.find_element(By.XPATH, './a')\n",
        "        category_name = category_element.text\n",
        "        caetgory_url = category_element.get_attribute('href')\n",
        "        \n",
        "        if category_name:\n",
        "            print(department_name + ' | ' + category_name + ' | ' + category_name)\n",
        "            print(caetgory_url)\n",
        "        \n",
        "            page_config = conf.copy()            \n",
        "            page_config['department'] = department_name\n",
        "            page_config['category'] = category_name\n",
        "            page_config['page'] = category_name\n",
        "            page_config['page_url'] = caetgory_url\n",
        "            page_config['file_name'] = getFilename(page_config)\n",
        "            page_configs.append(page_config)\n",
        "        \n",
        "            pages = category.find_elements(By.XPATH, './ul/li/a')\n",
        "            for page in pages:\n",
        "                page_name = page.text\n",
        "                page_url = page.get_attribute('href')\n",
        "\n",
        "                if page_name:\n",
        "                    print(department_name + ' | ' + category_name + ' | ' + page_name)\n",
        "                    print(page_url)\n",
        "\n",
        "                    page_config = conf.copy()            \n",
        "                    page_config['department'] = department_name\n",
        "                    page_config['category'] = category_name\n",
        "                    page_config['page'] = page_name\n",
        "                    page_config['page_url'] = page_url\n",
        "                    page_config['file_name'] = getFilename(page_config)\n",
        "                    page_configs.append(page_config)\n",
        "                    \n",
        "                    "
      ]
    },
    {
      "cell_type": "code",
      "execution_count": 29,
      "id": "e8e2c00f",
      "metadata": {},
      "outputs": [
        {
          "data": {
            "text/plain": [
              "353"
            ]
          },
          "execution_count": 29,
          "metadata": {},
          "output_type": "execute_result"
        }
      ],
      "source": [
        "len(page_configs)"
      ]
    },
    {
      "cell_type": "code",
      "execution_count": 30,
      "id": "30194e77",
      "metadata": {},
      "outputs": [],
      "source": [
        "with open(\"flaconide_urls.json\", \"w\") as outfile:\n",
        "    json.dump(page_configs, outfile)\n",
        "        "
      ]
    },
    {
      "cell_type": "code",
      "execution_count": null,
      "id": "1aa0d44a",
      "metadata": {},
      "outputs": [],
      "source": []
    }
  ],
  "metadata": {
    "kernelspec": {
      "display_name": "Python 3 (ipykernel)",
      "language": "python",
      "name": "python3"
    },
    "language_info": {
      "codemirror_mode": {
        "name": "ipython",
        "version": 3
      },
      "file_extension": ".py",
      "mimetype": "text/x-python",
      "name": "python",
      "nbconvert_exporter": "python",
      "pygments_lexer": "ipython3",
      "version": "3.9.9"
    }
  },
  "nbformat": 4,
  "nbformat_minor": 5
}
