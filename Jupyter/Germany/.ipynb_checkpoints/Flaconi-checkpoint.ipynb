{
  "cells": [
    {
      "cell_type": "code",
      "execution_count": 1,
      "id": "b5b9da08",
      "metadata": {},
      "outputs": [],
      "source": [
        "import undetected_chromedriver.v2 as uc\n",
        "from selenium.webdriver.support.ui import WebDriverWait\n",
        "from selenium.webdriver.support import expected_conditions as EC\n",
        "from selenium.webdriver.common.by import By\n",
        "from selenium.webdriver.common.action_chains import ActionChains\n",
        "from importlib.machinery import SourceFileLoader\n",
        "import time\n",
        "from selenium import webdriver\n",
        "import json"
      ]
    },
    {
      "cell_type": "code",
      "execution_count": 2,
      "id": "fe4d24d3",
      "metadata": {},
      "outputs": [],
      "source": [
        "driver = uc.Chrome()\n",
        "base_url = 'https://www.flaconi.de'\n",
        "driver.get(base_url)"
      ]
    },
    {
      "cell_type": "code",
      "execution_count": 13,
      "id": "7b6b4893",
      "metadata": {},
      "outputs": [],
      "source": [
        "def getFilename(conf):\n",
        "    file_name = page_config['country'] + '_' + page_config['retailer'] + '_' + page_config['department'] + '_' + page_config['category'] + '_' + page_config['page']\n",
        "    for k, v in json.load(open('/Users/bhargavsarvaria/Desktop/Applications/seldoc/config/encoding.json', 'r')).items():\n",
        "        file_name = file_name.replace(k, v)\n",
        "        file_name = file_name.replace('\\\\', '')\n",
        "    return file_name\n",
        "\n",
        "\n",
        "conf = {}\n",
        "conf['country'] = 'Germany'\n",
        "conf['retailer'] = 'Flaconi'\n",
        "conf['parsing_config'] = './retailer_config/flaconide_parsing.json'\n",
        "conf['gcloud_path'] = 'crawl_data/Germany/Flaconi/'\n",
        "page_configs = []"
      ]
    },
    {
      "cell_type": "code",
      "execution_count": 14,
      "id": "16a78955",
      "metadata": {
        "scrolled": true
      },
      "outputs": [
        {
          "name": "stdout",
          "output_type": "stream",
          "text": [
            "PERFUME | PERFUME | PERFUME\n",
            "https://www.flaconi.de/parfum/\n"
          ]
        },
        {
          "ename": "FileNotFoundError",
          "evalue": "[Errno 2] No such file or directory: 'config/encoding.json'",
          "output_type": "error",
          "traceback": [
            "\u001b[0;31m---------------------------------------------------------------------------\u001b[0m",
            "\u001b[0;31mFileNotFoundError\u001b[0m                         Traceback (most recent call last)",
            "Input \u001b[0;32mIn [14]\u001b[0m, in \u001b[0;36m<module>\u001b[0;34m\u001b[0m\n\u001b[1;32m     11\u001b[0m page_config[\u001b[38;5;124m'\u001b[39m\u001b[38;5;124mpage\u001b[39m\u001b[38;5;124m'\u001b[39m] \u001b[38;5;241m=\u001b[39m department_name\n\u001b[1;32m     12\u001b[0m page_config[\u001b[38;5;124m'\u001b[39m\u001b[38;5;124mpage_url\u001b[39m\u001b[38;5;124m'\u001b[39m] \u001b[38;5;241m=\u001b[39m department_url\n\u001b[0;32m---> 13\u001b[0m page_config[\u001b[38;5;124m'\u001b[39m\u001b[38;5;124mfile_name\u001b[39m\u001b[38;5;124m'\u001b[39m] \u001b[38;5;241m=\u001b[39m \u001b[43mgetFilename\u001b[49m\u001b[43m(\u001b[49m\u001b[43mpage_config\u001b[49m\u001b[43m)\u001b[49m\n\u001b[1;32m     14\u001b[0m page_configs\u001b[38;5;241m.\u001b[39mappend(page_config)\n\u001b[1;32m     16\u001b[0m action \u001b[38;5;241m=\u001b[39m ActionChains(driver)\n",
            "Input \u001b[0;32mIn [13]\u001b[0m, in \u001b[0;36mgetFilename\u001b[0;34m(conf)\u001b[0m\n\u001b[1;32m      1\u001b[0m \u001b[38;5;28;01mdef\u001b[39;00m \u001b[38;5;21mgetFilename\u001b[39m(conf):\n\u001b[1;32m      2\u001b[0m     file_name \u001b[38;5;241m=\u001b[39m page_config[\u001b[38;5;124m'\u001b[39m\u001b[38;5;124mcountry\u001b[39m\u001b[38;5;124m'\u001b[39m] \u001b[38;5;241m+\u001b[39m \u001b[38;5;124m'\u001b[39m\u001b[38;5;124m_\u001b[39m\u001b[38;5;124m'\u001b[39m \u001b[38;5;241m+\u001b[39m page_config[\u001b[38;5;124m'\u001b[39m\u001b[38;5;124mretailer\u001b[39m\u001b[38;5;124m'\u001b[39m] \u001b[38;5;241m+\u001b[39m \u001b[38;5;124m'\u001b[39m\u001b[38;5;124m_\u001b[39m\u001b[38;5;124m'\u001b[39m \u001b[38;5;241m+\u001b[39m page_config[\u001b[38;5;124m'\u001b[39m\u001b[38;5;124mdepartment\u001b[39m\u001b[38;5;124m'\u001b[39m] \u001b[38;5;241m+\u001b[39m \u001b[38;5;124m'\u001b[39m\u001b[38;5;124m_\u001b[39m\u001b[38;5;124m'\u001b[39m \u001b[38;5;241m+\u001b[39m page_config[\u001b[38;5;124m'\u001b[39m\u001b[38;5;124mcategory\u001b[39m\u001b[38;5;124m'\u001b[39m] \u001b[38;5;241m+\u001b[39m \u001b[38;5;124m'\u001b[39m\u001b[38;5;124m_\u001b[39m\u001b[38;5;124m'\u001b[39m \u001b[38;5;241m+\u001b[39m page_config[\u001b[38;5;124m'\u001b[39m\u001b[38;5;124mpage\u001b[39m\u001b[38;5;124m'\u001b[39m]\n\u001b[0;32m----> 3\u001b[0m     \u001b[38;5;28;01mfor\u001b[39;00m k, v \u001b[38;5;129;01min\u001b[39;00m json\u001b[38;5;241m.\u001b[39mload(\u001b[38;5;28;43mopen\u001b[39;49m\u001b[43m(\u001b[49m\u001b[38;5;124;43m'\u001b[39;49m\u001b[38;5;124;43mencoding.json\u001b[39;49m\u001b[38;5;124;43m'\u001b[39;49m\u001b[43m,\u001b[49m\u001b[43m \u001b[49m\u001b[38;5;124;43m'\u001b[39;49m\u001b[38;5;124;43mr\u001b[39;49m\u001b[38;5;124;43m'\u001b[39;49m\u001b[43m)\u001b[49m)\u001b[38;5;241m.\u001b[39mitems():\n\u001b[1;32m      4\u001b[0m         file_name \u001b[38;5;241m=\u001b[39m file_name\u001b[38;5;241m.\u001b[39mreplace(k, v)\n\u001b[1;32m      5\u001b[0m         file_name \u001b[38;5;241m=\u001b[39m file_name\u001b[38;5;241m.\u001b[39mreplace(\u001b[38;5;124m'\u001b[39m\u001b[38;5;130;01m\\\\\u001b[39;00m\u001b[38;5;124m'\u001b[39m, \u001b[38;5;124m'\u001b[39m\u001b[38;5;124m'\u001b[39m)\n",
            "\u001b[0;31mFileNotFoundError\u001b[0m: [Errno 2] No such file or directory: 'config/encoding.json'"
          ]
        }
      ],
      "source": [
        "departments = driver.find_elements(By.CLASS_NAME, 'Navigationstyle__ListItem-sc-1r9fvyg-2')[1:]\n",
        "for department in departments:\n",
        "    department_name = department.find_element(By.XPATH, './a').text\n",
        "    department_url = department.find_element(By.XPATH, './a').get_attribute('href')\n",
        "    print(department_name + ' | ' + department_name + ' | ' + department_name)\n",
        "    print(department_url)\n",
        "    \n",
        "    page_config = conf.copy()            \n",
        "    page_config['department'] = department_name\n",
        "    page_config['category'] = department_name\n",
        "    page_config['page'] = department_name\n",
        "    page_config['page_url'] = department_url\n",
        "    page_config['file_name'] = getFilename(page_config)\n",
        "    page_configs.append(page_config)\n",
        "    \n",
        "    action = ActionChains(driver)\n",
        "    action.move_to_element(department).perform()\n",
        "    time.sleep(1)\n",
        "    categories = department.find_elements(By.CLASS_NAME, 'Navigationstyle__CategoryWrapper-sc-1r9fvyg-6')\n",
        "    for category in categories:\n",
        "        if not category.find_elements(By.XPATH, './a'):\n",
        "            continue\n",
        "        category_element = category.find_element(By.XPATH, './a')\n",
        "        category_name = category_element.text\n",
        "        caetgory_url = category_element.get_attribute('href')\n",
        "        \n",
        "        if category_name:\n",
        "            print(department_name + ' | ' + category_name + ' | ' + category_name)\n",
        "            print(caetgory_url)\n",
        "        \n",
        "            page_config = conf.copy()            \n",
        "            page_config['department'] = department_name\n",
        "            page_config['category'] = category_name\n",
        "            page_config['page'] = category_name\n",
        "            page_config['page_url'] = caetgory_url\n",
        "            page_config['file_name'] = getFilename(page_config)\n",
        "            page_configs.append(page_config)\n",
        "        \n",
        "            pages = category.find_elements(By.XPATH, './ul/li/a')\n",
        "            for page in pages:\n",
        "                page_name = page.text\n",
        "                page_url = page.get_attribute('href')\n",
        "\n",
        "                if page_name:\n",
        "                    print(department_name + ' | ' + category_name + ' | ' + page_name)\n",
        "                    print(page_url)\n",
        "\n",
        "                    page_config = conf.copy()            \n",
        "                    page_config['department'] = department_name\n",
        "                    page_config['category'] = category_name\n",
        "                    page_config['page'] = page_name\n",
        "                    page_config['page_url'] = page_url\n",
        "                    page_config['file_name'] = getFilename(page_config)\n",
        "                    page_configs.append(page_config)\n",
        "                    \n",
        "                    "
      ]
    },
    {
      "cell_type": "code",
      "execution_count": 41,
      "id": "e8e2c00f",
      "metadata": {},
      "outputs": [
        {
          "data": {
            "text/plain": [
              "343"
            ]
          },
          "execution_count": 41,
          "metadata": {},
          "output_type": "execute_result"
        }
      ],
      "source": [
        "len(page_configs)"
      ]
    },
    {
      "cell_type": "code",
      "execution_count": 42,
      "id": "30194e77",
      "metadata": {},
      "outputs": [],
      "source": [
        "with open(\"ultacom_urls.json\", \"w\") as outfile:\n",
        "        json.dump(page_configs, outfile)\n",
        "        "
      ]
    }
  ],
  "metadata": {
    "kernelspec": {
      "display_name": "Python 3 (ipykernel)",
      "language": "python",
      "name": "python3"
    },
    "language_info": {
      "codemirror_mode": {
        "name": "ipython",
        "version": 3
      },
      "file_extension": ".py",
      "mimetype": "text/x-python",
      "name": "python",
      "nbconvert_exporter": "python",
      "pygments_lexer": "ipython3",
      "version": "3.9.9"
    }
  },
  "nbformat": 4,
  "nbformat_minor": 5
}
