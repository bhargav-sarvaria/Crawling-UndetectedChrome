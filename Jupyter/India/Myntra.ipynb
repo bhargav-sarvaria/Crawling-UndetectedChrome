{
  "cells": [
    {
      "cell_type": "code",
      "execution_count": 1,
      "id": "a4fed950",
      "metadata": {},
      "outputs": [],
      "source": [
        "import undetected_chromedriver.v2 as uc\n",
        "from selenium.webdriver.support.ui import WebDriverWait\n",
        "from selenium.webdriver.support import expected_conditions as EC\n",
        "from selenium.webdriver.common.by import By\n",
        "from selenium.webdriver.common.action_chains import ActionChains\n",
        "from importlib.machinery import SourceFileLoader\n",
        "import time\n",
        "from selenium import webdriver\n",
        "import json"
      ]
    },
    {
      "cell_type": "code",
      "execution_count": null,
      "id": "e6bc0dc0",
      "metadata": {},
      "outputs": [],
      "source": [
        "driver = uc.Chrome()\n",
        "# '/Users/bhargavsarvaria/Desktop/Applications/seldoc/chrome/driver_mac/chromedriver'\n",
        "base_url = 'https://www.myntra.com/'\n",
        "driver.get(base_url)"
      ]
    },
    {
      "cell_type": "code",
      "execution_count": null,
      "id": "c8b68f69",
      "metadata": {},
      "outputs": [],
      "source": [
        "def getFilename(conf):\n",
        "    file_name = page_config['country'] + '_' + page_config['retailer'] + '_' + page_config['department'] + '_' + page_config['category'] + '_' + page_config['page']\n",
        "    for k, v in json.load(open('/Users/bhargavsarvaria/Desktop/Applications/seldoc/config/encoding.json', 'r')).items():\n",
        "        file_name = file_name.replace(k, v)\n",
        "        file_name = file_name.replace('\\\\', '')\n",
        "    return file_name\n",
        "\n",
        "country = 'India'\n",
        "code = 'in'\n",
        "\n",
        "conf = {}\n",
        "conf['country'] = country\n",
        "conf['retailer'] = 'Myntra'\n",
        "conf['parsing_config'] = './retailer_config/myntra_parsing.json'\n",
        "conf['gcloud_path'] = 'crawl_data/'+country+'/Myntra/'\n",
        "page_configs = []"
      ]
    },
    {
      "cell_type": "code",
      "execution_count": null,
      "id": "0041f335",
      "metadata": {},
      "outputs": [],
      "source": [
        "conf"
      ]
    },
    {
      "cell_type": "code",
      "execution_count": null,
      "id": "e5aaf59d",
      "metadata": {
        "scrolled": true
      },
      "outputs": [],
      "source": [
        "departments = driver.find_elements(By.CLASS_NAME, 'desktop-navLink')\n",
        "\n",
        "for department in departments[:-1]:\n",
        "    action = ActionChains(driver)\n",
        "    action.move_to_element(department).perform()\n",
        "    time.sleep(2)\n",
        "    \n",
        "    department_name = department.find_element(By.XPATH, './a').text\n",
        "    containers = department.find_elements(By.CLASS_NAME, 'desktop-navBlock')\n",
        "    categories = []\n",
        "    for container in containers:\n",
        "        childs = container.find_elements(By.XPATH, '*')\n",
        "        for child in childs:\n",
        "            if child.get_attribute('class') == 'desktop-hrLine': \n",
        "                print(child.get_attribute('class'))\n",
        "            else:\n",
        "                el = child.find_element(By.XPATH, './a')\n",
        "                if el.get_attribute('class') == 'desktop-categoryName':\n",
        "                    category_name = el.text\n",
        "                    category_url = el.get_attribute('href')\n",
        "                    print(department_name + ' | ' + category_name + ' | ' + category_name)\n",
        "                    \n",
        "                    page_config = conf.copy()            \n",
        "                    page_config['department'] = department_name\n",
        "                    page_config['category'] = category_name\n",
        "                    page_config['page'] = category_name\n",
        "                    page_config['page_url'] = category_url\n",
        "                    page_config['file_name'] = getFilename(page_config)\n",
        "                    page_configs.append(page_config)\n",
        "                    \n",
        "                elif el.get_attribute('class') == 'desktop-categoryLink':\n",
        "                    page_name = el.text\n",
        "                    page_url = el.get_attribute('href')\n",
        "                    print(department_name + ' | ' + category_name + ' | ' + page_name)\n",
        "                    \n",
        "                    page_config = conf.copy()            \n",
        "                    page_config['department'] = department_name\n",
        "                    page_config['category'] = category_name\n",
        "                    page_config['page'] = page_name\n",
        "                    page_config['page_url'] = page_url\n",
        "                    page_config['file_name'] = getFilename(page_config)\n",
        "                    page_configs.append(page_config)\n",
        "\n"
      ]
    },
    {
      "cell_type": "code",
      "execution_count": null,
      "id": "83268c7e",
      "metadata": {},
      "outputs": [],
      "source": [
        "len(page_configs)"
      ]
    },
    {
      "cell_type": "code",
      "execution_count": null,
      "id": "e162b96d",
      "metadata": {},
      "outputs": [],
      "source": [
        "with open(\"myntra\"+code+\"_urls.json\", \"w\") as outfile:\n",
        "    json.dump(page_configs, outfile)"
      ]
    },
    {
      "cell_type": "code",
      "execution_count": null,
      "id": "7930f746",
      "metadata": {},
      "outputs": [],
      "source": [
        "driver.close()\n",
        "driver.quit()"
      ]
    },
    {
      "cell_type": "code",
      "execution_count": 2,
      "id": "ebc38372",
      "metadata": {},
      "outputs": [],
      "source": [
        "d = uc.Chrome()"
      ]
    },
    {
      "cell_type": "code",
      "execution_count": 16,
      "id": "1b417fd6",
      "metadata": {},
      "outputs": [],
      "source": [
        "pro = d.find_elements(By.CLASS_NAME, 'product-tile__text.product-tile__category')\n",
        "from bs4 import BeautifulSoup\n"
      ]
    },
    {
      "cell_type": "code",
      "execution_count": 19,
      "id": "e3f7a71d",
      "metadata": {},
      "outputs": [],
      "source": [
        "source = BeautifulSoup(d.page_source, 'html.parser')\n",
        "pro = source.find_all(class_='product-tile__text product-tile__category')"
      ]
    },
    {
      "cell_type": "code",
      "execution_count": 20,
      "id": "07d11624",
      "metadata": {},
      "outputs": [
        {
          "name": "stdout",
          "output_type": "stream",
          "text": [
            "Anti-Aging care\n",
            "Lippenstift\n",
            "Mascara\n",
            "Augenpflege\n",
            "Selbstbräuner\n",
            "Augencreme\n",
            "Gesichtscreme\n",
            "Gesichtscreme\n",
            "Gesichtscreme\n",
            "Lipgloss\n",
            "Gesichtscreme\n",
            "Gesichtscreme\n",
            "Gesichtscreme\n",
            "BB Cream\n",
            "Lippenbalm\n",
            "Foundation\n",
            "Gesichtswasser\n",
            "Mascara\n",
            "Gesichtswasser\n",
            "Augencreme\n",
            "Foundation\n",
            "Bodylotion\n",
            "Reinigungsschaum\n",
            "Serum\n",
            "Lipgloss\n",
            "Make-up Entferner\n",
            "Gesichtscreme\n",
            "Sonnencreme\n",
            "Gesichtscreme\n",
            "Gesichtscreme\n",
            "Gesichtscreme\n",
            "Creme\n",
            "Gesichtscreme\n",
            "Gesichtscreme\n",
            "Gesichtscreme\n",
            "Reinigungscreme\n",
            "Hals & Dekolletee\n",
            "Augencreme\n",
            "Gesichtscreme\n",
            "Gesichtsöl\n",
            "Augenbalsam\n",
            "Körpercreme\n",
            "Foundation\n",
            "Gesichtspeeling\n",
            "Handlotion\n",
            "Reinigungscreme\n",
            "Primer\n",
            "Gesichtscreme\n"
          ]
        }
      ],
      "source": [
        "for p in pro:\n",
        "    print(p.text)"
      ]
    }
  ],
  "metadata": {
    "kernelspec": {
      "display_name": "Python 3 (ipykernel)",
      "language": "python",
      "name": "python3"
    },
    "language_info": {
      "codemirror_mode": {
        "name": "ipython",
        "version": 3
      },
      "file_extension": ".py",
      "mimetype": "text/x-python",
      "name": "python",
      "nbconvert_exporter": "python",
      "pygments_lexer": "ipython3",
      "version": "3.9.9"
    }
  },
  "nbformat": 4,
  "nbformat_minor": 5
}
