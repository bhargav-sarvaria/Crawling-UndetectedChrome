{
  "cells": [
    {
      "cell_type": "code",
      "execution_count": null,
      "id": "37d321cb",
      "metadata": {},
      "outputs": [],
      "source": [
        "import undetected_chromedriver.v2 as uc\n",
        "from selenium.webdriver.support.ui import WebDriverWait\n",
        "from selenium.webdriver.support import expected_conditions as EC\n",
        "from selenium.webdriver.common.by import By\n",
        "from selenium.webdriver.common.action_chains import ActionChains\n",
        "from importlib.machinery import SourceFileLoader\n",
        "import time\n",
        "from selenium import webdriver\n",
        "import json"
      ]
    },
    {
      "cell_type": "code",
      "execution_count": null,
      "id": "395dd81a",
      "metadata": {},
      "outputs": [],
      "source": [
        "driver = uc.Chrome()\n",
        "driver.get('https://www.nykaa.com/')"
      ]
    },
    {
      "cell_type": "code",
      "execution_count": null,
      "id": "dc1382e6",
      "metadata": {},
      "outputs": [],
      "source": [
        "conf = {}\n",
        "conf['country'] = 'India'\n",
        "conf['retailer'] = 'Nykaa'\n",
        "conf['parsing_config'] = './retailer_config/nykaacom_parsing.json'\n",
        "conf['gcloud_path'] = 'crawl_data/India/Nykaa/'\n",
        "page_configs = []"
      ]
    },
    {
      "cell_type": "code",
      "execution_count": null,
      "id": "b16e45fc",
      "metadata": {},
      "outputs": [],
      "source": [
        "nav = driver.find_element(By.CLASS_NAME, 'megaMenu_main.subMegaMenu_main.home-menu-fixed')\n",
        "departments = nav.find_elements(By.CLASS_NAME, 'MegaDropdownHeadingbox')\n",
        "departments_texts = []\n",
        "for department in departments:\n",
        "    if department.text == '':\n",
        "        continue\n",
        "    else:\n",
        "        departments_texts.append(department.text)\n",
        "print(departments_texts)"
      ]
    },
    {
      "cell_type": "code",
      "execution_count": null,
      "id": "bd002579",
      "metadata": {},
      "outputs": [],
      "source": []
    },
    {
      "cell_type": "code",
      "execution_count": 82,
      "id": "2bba777d",
      "metadata": {
        "scrolled": true
      },
      "outputs": [
        {
          "name": "stdout",
          "output_type": "stream",
          "text": [
            "{'country': 'India', 'retailer': 'Nykaa', 'parsing_config': './retailer_config/nykaacom_parsing.json', 'gcloud_path': 'crawl_data/India/Nykaa/', 'department': 'LUXE', 'category': 'BATH & BODY_BATH', 'page': 'BATH & BODY_BATH', 'page_url': 'https://www.nykaa.com/luxe/bath-body/c/2884?ptype=lst&id=2884&root=nav_2&dir=desc&order=popularity', 'file_name': 'India_Nykaa_LUXE_BATH|sp||as||sp|BODY_BATH_BATH|sp||as||sp|BODY_BATH'}\n",
            "{'country': 'India', 'retailer': 'Nykaa', 'parsing_config': './retailer_config/nykaacom_parsing.json', 'gcloud_path': 'crawl_data/India/Nykaa/', 'department': 'LUXE', 'category': 'BATH & BODY_BATH', 'page': 'Soap', 'page_url': 'https://www.nykaa.com/luxe/bath-body/soaps/c/3968?ptype=lst&id=3968&root=nav_4&dir=desc&order=popularity', 'file_name': 'India_Nykaa_LUXE_BATH|sp||as||sp|BODY_BATH_Soap'}\n",
            "{'country': 'India', 'retailer': 'Nykaa', 'parsing_config': './retailer_config/nykaacom_parsing.json', 'gcloud_path': 'crawl_data/India/Nykaa/', 'department': 'LUXE', 'category': 'BATH & BODY_BATH', 'page': 'Shower Gel', 'page_url': 'https://www.nykaa.com/luxe/bath-body/shower-gels/c/3969?ptype=lst&id=3969&root=nav_4&dir=desc&order=popularity', 'file_name': 'India_Nykaa_LUXE_BATH|sp||as||sp|BODY_BATH_Shower|sp|Gel'}\n",
            "{'country': 'India', 'retailer': 'Nykaa', 'parsing_config': './retailer_config/nykaacom_parsing.json', 'gcloud_path': 'crawl_data/India/Nykaa/', 'department': 'LUXE', 'category': 'BATH & BODY_BATH', 'page': 'Scrubs & Exfoliators', 'page_url': 'https://www.nykaa.com/luxe/bath-body/scrubs-exfoliators/c/2886?ptype=lst&id=2886&root=nav_4&dir=desc&order=popularity', 'file_name': 'India_Nykaa_LUXE_BATH|sp||as||sp|BODY_BATH_Scrubs|sp||as||sp|Exfoliators'}\n",
            "{'country': 'India', 'retailer': 'Nykaa', 'parsing_config': './retailer_config/nykaacom_parsing.json', 'gcloud_path': 'crawl_data/India/Nykaa/', 'department': 'LUXE', 'category': 'BATH & BODY_BODY', 'page': 'BATH & BODY_BODY', 'page_url': 'https://www.nykaa.com/luxe/bath-body/c/2884?ptype=lst&id=2884&root=nav_2&dir=desc&order=popularity', 'file_name': 'India_Nykaa_LUXE_BATH|sp||as||sp|BODY_BODY_BATH|sp||as||sp|BODY_BODY'}\n",
            "{'country': 'India', 'retailer': 'Nykaa', 'parsing_config': './retailer_config/nykaacom_parsing.json', 'gcloud_path': 'crawl_data/India/Nykaa/', 'department': 'LUXE', 'category': 'BATH & BODY_BODY', 'page': 'Moisturiser', 'page_url': 'https://www.nykaa.com/luxe/bath-body/moisturisers/c/2887?ptype=lst&id=2887&root=nav_4&dir=desc&order=popularity', 'file_name': 'India_Nykaa_LUXE_BATH|sp||as||sp|BODY_BODY_Moisturiser'}\n",
            "{'country': 'India', 'retailer': 'Nykaa', 'parsing_config': './retailer_config/nykaacom_parsing.json', 'gcloud_path': 'crawl_data/India/Nykaa/', 'department': 'LUXE', 'category': 'BATH & BODY_BODY', 'page': 'Sun Protection', 'page_url': 'https://www.nykaa.com/luxe/bath-body/sun-protection/c/3971?ptype=lst&id=3971&root=nav_4&dir=desc&order=popularity', 'file_name': 'India_Nykaa_LUXE_BATH|sp||as||sp|BODY_BODY_Sun|sp|Protection'}\n"
          ]
        }
      ],
      "source": [
        "for did, department in enumerate(departments):\n",
        "    if did != 10:\n",
        "        continue\n",
        "    action = ActionChains(driver)\n",
        "    action.move_to_element(department).perform()\n",
        "    time.sleep(0.5)\n",
        "    splits = department.find_element(By.CLASS_NAME, 'MegaDropdowntopWrapper').find_elements(By.XPATH, './div')\n",
        "    categories = []\n",
        "    category_landings = []\n",
        "    for split in splits[3:]:\n",
        "        split_text = split.find_element(By.CLASS_NAME, 'LuxeHeadingBox').text\n",
        "        category_landings = split.find_elements(By.XPATH, './div/div/div/a')\n",
        "        categories = split.find_elements(By.XPATH, './div/div/ul')\n",
        "        \n",
        "        if len(category_landings) == len(categories):\n",
        "            for sid, cat  in enumerate(categories):\n",
        "                page_config = conf.copy()            \n",
        "                page_config['department'] = departments_texts[did].strip()\n",
        "                page_config['category'] = split_text + '_' + category_landings[sid].text\n",
        "                page_config['page'] = split_text + '_' + category_landings[sid].text\n",
        "                page_config['page_url'] = category_landings[sid].get_attribute('href')\n",
        "                file_name = page_config['country'] + '_' + page_config['retailer'] + '_' + page_config['department'] + '_' + page_config['category'] + '_' + page_config['page']\n",
        "                for k, v in json.load(open('config/encoding.json', 'r')).items():\n",
        "                    file_name = file_name.replace(k, v)\n",
        "                    file_name = file_name.replace('\\\\', '')\n",
        "                page_config['file_name'] = file_name\n",
        "                page_configs.append(page_config)\n",
        "                print(page_config)\n",
        "                \n",
        "                pages = cat.find_elements(By.XPATH, './li/a')\n",
        "                for page in pages:\n",
        "                    page_config = conf.copy()            \n",
        "                    page_config['department'] = departments_texts[did].strip()\n",
        "                    page_config['category'] = split_text + '_' + category_landings[sid].text\n",
        "                    page_config['page'] = page.text\n",
        "                    page_config['page_url'] = page.get_attribute('href')\n",
        "                    file_name = page_config['country'] + '_' + page_config['retailer'] + '_' + page_config['department'] + '_' + page_config['category'] + '_' + page_config['page']\n",
        "                    for k, v in json.load(open('config/encoding.json', 'r')).items():\n",
        "                        file_name = file_name.replace(k, v)\n",
        "                        file_name = file_name.replace('\\\\', '')\n",
        "                    page_config['file_name'] = file_name\n",
        "                    page_configs.append(page_config)\n",
        "                    print(page_config)\n",
        "\n",
        "#     print(len(category_landings))\n",
        "#     print(len(categories))"
      ]
    },
    {
      "cell_type": "code",
      "execution_count": 95,
      "id": "05752490",
      "metadata": {},
      "outputs": [
        {
          "name": "stdout",
          "output_type": "stream",
          "text": [
            "{'country': 'India', 'retailer': 'Nykaa', 'parsing_config': './retailer_config/nykaacom_parsing.json', 'gcloud_path': 'crawl_data/India/Nykaa/', 'department': 'Luxe', 'category': 'Hair_HAIR', 'page': 'Hair_HAIR', 'page_url': 'https://www.nykaa.com/luxe/hair/c/2911?ptype=lst&id=2911&root=nav_2&dir=desc&order=popularity', 'file_name': 'India_Nykaa_Luxe_Hair_HAIR_Hair_HAIR'}\n",
            "{'country': 'India', 'retailer': 'Nykaa', 'parsing_config': './retailer_config/nykaacom_parsing.json', 'gcloud_path': 'crawl_data/India/Nykaa/', 'department': 'Luxe', 'category': 'Hair_HAIR', 'page': 'Hair_Shampoo', 'page_url': 'https://www.nykaa.com/luxe/hair/hair-care/shampoo/c/2912', 'file_name': 'India_Nykaa_Luxe_Hair_HAIR_Hair_Shampoo'}\n",
            "{'country': 'India', 'retailer': 'Nykaa', 'parsing_config': './retailer_config/nykaacom_parsing.json', 'gcloud_path': 'crawl_data/India/Nykaa/', 'department': 'Luxe', 'category': 'Hair_HAIR', 'page': 'Hair_Conditioner', 'page_url': 'https://www.nykaa.com/luxe/hair/hair-care/conditioner/c/2913', 'file_name': 'India_Nykaa_Luxe_Hair_HAIR_Hair_Conditioner'}\n",
            "{'country': 'India', 'retailer': 'Nykaa', 'parsing_config': './retailer_config/nykaacom_parsing.json', 'gcloud_path': 'crawl_data/India/Nykaa/', 'department': 'Luxe', 'category': 'Hair_HAIR', 'page': 'Hair_Hair Oil', 'page_url': 'https://www.nykaa.com/luxe/hair/hair-care/hair-oil/c/2914', 'file_name': 'India_Nykaa_Luxe_Hair_HAIR_Hair_Hair|sp|Oil'}\n",
            "{'country': 'India', 'retailer': 'Nykaa', 'parsing_config': './retailer_config/nykaacom_parsing.json', 'gcloud_path': 'crawl_data/India/Nykaa/', 'department': 'Luxe', 'category': 'Hair_HAIR', 'page': 'Hair_Hair Serums & Masks', 'page_url': 'https://www.nykaa.com/hair/hair-care/hair-serums-masks/c/2917', 'file_name': 'India_Nykaa_Luxe_Hair_HAIR_Hair_Hair|sp|Serums|sp||as||sp|Masks'}\n",
            "{'country': 'India', 'retailer': 'Nykaa', 'parsing_config': './retailer_config/nykaacom_parsing.json', 'gcloud_path': 'crawl_data/India/Nykaa/', 'department': 'Luxe', 'category': 'Hair_HAIR', 'page': 'Hair_Hair Styling', 'page_url': 'https://www.nykaa.com/luxe/hair/hair-styling/c/2916?ptype=lst&id=2916&root=nav_3&dir=desc&order=popularity', 'file_name': 'India_Nykaa_Luxe_Hair_HAIR_Hair_Hair|sp|Styling'}\n",
            "{'country': 'India', 'retailer': 'Nykaa', 'parsing_config': './retailer_config/nykaacom_parsing.json', 'gcloud_path': 'crawl_data/India/Nykaa/', 'department': 'Luxe', 'category': 'Hair_HAIR', 'page': 'Hair_Hair Color', 'page_url': 'https://www.nykaa.com/luxe/hair/hair-color/c/2915?ptype=lst&id=2915&root=nav_3&dir=desc&order=popularity', 'file_name': 'India_Nykaa_Luxe_Hair_HAIR_Hair_Hair|sp|Color'}\n",
            "{'country': 'India', 'retailer': 'Nykaa', 'parsing_config': './retailer_config/nykaacom_parsing.json', 'gcloud_path': 'crawl_data/India/Nykaa/', 'department': 'Luxe', 'category': 'Hair_HAIR', 'page': 'Hair_Appliances', 'page_url': 'https://www.nykaa.com/luxe/luxe-appliances/c/23785?ptype=lst&id=2915&root=nav_3&dir=desc&order=popularity', 'file_name': 'India_Nykaa_Luxe_Hair_HAIR_Hair_Appliances'}\n"
          ]
        }
      ],
      "source": [
        "depar = 'Luxe'\n",
        "for did, department in enumerate(departments):\n",
        "    split_text = 'Hair'\n",
        "    if did != 10:\n",
        "        continue\n",
        "    action = ActionChains(driver)\n",
        "    action.move_to_element(department).perform()\n",
        "    time.sleep(0.5)\n",
        "    category_landings = driver.find_elements(By.XPATH,\n",
        "    '/html/body/div[1]/header/div/div[3]/div/div/div/div[2]/ul/li[11]/ul/li/div/div[3]/div[2]/div[2]/a')\n",
        "    categories = driver.find_elements(By.XPATH, \n",
        "    '/html/body/div[1]/header/div/div[3]/div/div/div/div[2]/ul/li[11]/ul/li/div/div[3]/div[2]/div[3]/ul')\n",
        "\n",
        "\n",
        "\n",
        "    if len(category_landings) == len(categories):\n",
        "        for sid, cat  in enumerate(categories):\n",
        "            page_config = conf.copy()            \n",
        "            page_config['department'] = depar\n",
        "            page_config['category'] = split_text + '_' + category_landings[sid].text\n",
        "            page_config['page'] = split_text + '_' + category_landings[sid].text\n",
        "            page_config['page_url'] = category_landings[sid].get_attribute('href')\n",
        "            file_name = page_config['country'] + '_' + page_config['retailer'] + '_' + page_config['department'] + '_' + page_config['category'] + '_' + page_config['page']\n",
        "            for k, v in json.load(open('config/encoding.json', 'r')).items():\n",
        "                file_name = file_name.replace(k, v)\n",
        "                file_name = file_name.replace('\\\\', '')\n",
        "            page_config['file_name'] = file_name\n",
        "            page_configs.append(page_config)\n",
        "            print(page_config)\n",
        "\n",
        "            pages = cat.find_elements(By.XPATH, './li/a')\n",
        "            for page in pages:\n",
        "                page_config = conf.copy()            \n",
        "                page_config['department'] = depar\n",
        "                page_config['category'] = split_text + '_' + category_landings[sid].text\n",
        "                page_config['page'] = split_text + '_' + page.text\n",
        "                page_config['page_url'] = page.get_attribute('href')\n",
        "                file_name = page_config['country'] + '_' + page_config['retailer'] + '_' + page_config['department'] + '_' + page_config['category'] + '_' + page_config['page']\n",
        "                for k, v in json.load(open('config/encoding.json', 'r')).items():\n",
        "                    file_name = file_name.replace(k, v)\n",
        "                    file_name = file_name.replace('\\\\', '')\n",
        "                page_config['file_name'] = file_name\n",
        "                page_configs.append(page_config)\n",
        "                print(page_config)\n"
      ]
    },
    {
      "cell_type": "code",
      "execution_count": 106,
      "id": "aab2930b",
      "metadata": {
        "scrolled": true
      },
      "outputs": [],
      "source": [
        "with open(\"nykaacom_urls.json\", \"w\") as outfile:\n",
        "        json.dump(page_configs, outfile)"
      ]
    },
    {
      "cell_type": "code",
      "execution_count": null,
      "id": "15dfbf1f",
      "metadata": {
        "scrolled": true
      },
      "outputs": [],
      "source": [
        "temp = []\n",
        "# page_configs\n",
        "for idx, page_config in enumerate(page_configs):\n",
        "    if page_config['department'] != 'LUXE':\n",
        "#         page_config.pop(`idx)\n",
        "        temp.append(page_config)\n",
        "#         print(page_config)\n",
        "#         page_configs[idx]['department'] = 'Appliances'"
      ]
    },
    {
      "cell_type": "code",
      "execution_count": 97,
      "id": "cca33e78",
      "metadata": {},
      "outputs": [
        {
          "data": {
            "text/plain": [
              "673"
            ]
          },
          "execution_count": 97,
          "metadata": {},
          "output_type": "execute_result"
        }
      ],
      "source": [
        "len(page_configs)"
      ]
    },
    {
      "cell_type": "code",
      "execution_count": 96,
      "id": "5e371fb6",
      "metadata": {},
      "outputs": [],
      "source": [
        "page_config = conf.copy()            \n",
        "page_config['department'] = 'LUXE'\n",
        "page_config['category'] = 'Lipcare'\n",
        "page_config['page'] = 'Lipcare'\n",
        "page_config['page_url'] = 'https://www.nykaa.com/luxe/skin/eye-care/c/2878?ptype=lst&id=2878&root=nav_3&dir=desc&order=popularity'\n",
        "file_name = page_config['country'] + '_' + page_config['retailer'] + '_' + page_config['department'] + '_' + page_config['category'] + '_' + page_config['page']\n",
        "for k, v in json.load(open('config/encoding.json', 'r')).items():\n",
        "    file_name = file_name.replace(k, v)\n",
        "    file_name = file_name.replace('\\\\', '')\n",
        "page_config['file_name'] = file_name\n",
        "page_configs.append(page_config)\n",
        "\n",
        "                    "
      ]
    },
    {
      "cell_type": "code",
      "execution_count": 104,
      "id": "866ccbce",
      "metadata": {},
      "outputs": [],
      "source": [
        "buf = []\n",
        "for pc in temp:\n",
        "    if pc not in page_configs:\n",
        "        buf.append(pc)"
      ]
    },
    {
      "cell_type": "code",
      "execution_count": 105,
      "id": "ddefe79d",
      "metadata": {},
      "outputs": [
        {
          "data": {
            "text/plain": [
              "[]"
            ]
          },
          "execution_count": 105,
          "metadata": {},
          "output_type": "execute_result"
        }
      ],
      "source": [
        "buf"
      ]
    }
  ],
  "metadata": {
    "kernelspec": {
      "display_name": "Python 3 (ipykernel)",
      "language": "python",
      "name": "python3"
    },
    "language_info": {
      "codemirror_mode": {
        "name": "ipython",
        "version": 3
      },
      "file_extension": ".py",
      "mimetype": "text/x-python",
      "name": "python",
      "nbconvert_exporter": "python",
      "pygments_lexer": "ipython3",
      "version": "3.9.9"
    }
  },
  "nbformat": 4,
  "nbformat_minor": 5
}
