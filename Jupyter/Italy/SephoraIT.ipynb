{
  "cells": [
    {
      "cell_type": "code",
      "execution_count": 1,
      "id": "e05cfe9d",
      "metadata": {},
      "outputs": [],
      "source": [
        "import undetected_chromedriver.v2 as uc\n",
        "from selenium.webdriver.support.ui import WebDriverWait\n",
        "from selenium.webdriver.support import expected_conditions as EC\n",
        "from selenium.webdriver.common.by import By\n",
        "from selenium.webdriver.common.action_chains import ActionChains\n",
        "from importlib.machinery import SourceFileLoader\n",
        "import time\n",
        "from selenium import webdriver\n",
        "import json\n",
        "\n",
        "# from deep_translator import GoogleTranslator\n",
        "# to_translate = 'Bonjour'\n",
        "# translated = GoogleTranslator(source='fr', target='en').translate(to_translate)\n",
        "# print(translated)\n",
        "# driver = webdriver.Chrome(ChromeDriverManager().install())"
      ]
    },
    {
      "cell_type": "code",
      "execution_count": 4,
      "id": "be8deefd",
      "metadata": {},
      "outputs": [],
      "source": [
        "driver = uc.Chrome()\n",
        "\n",
        "base_url = 'https://www.sephora.it/'\n",
        "driver.get(base_url)"
      ]
    },
    {
      "cell_type": "code",
      "execution_count": 67,
      "id": "073dfef8",
      "metadata": {},
      "outputs": [],
      "source": [
        "def getFilename(conf):\n",
        "    file_name = page_config['country'] + '_' + page_config['retailer'] + '_' + page_config['department'] + '_' + page_config['category'] + '_' + page_config['page']\n",
        "    for k, v in json.load(open('/Users/bhargavsarvaria/Desktop/Applications/seldoc/config/encoding.json', 'r')).items():\n",
        "        file_name = file_name.replace(k, v)\n",
        "        file_name = file_name.replace('\\\\', '')\n",
        "    return file_name\n",
        "\n",
        "\n",
        "conf = {}\n",
        "conf['country'] = 'Portugal'\n",
        "conf['retailer'] = 'Sephora_PT'\n",
        "conf['parsing_config'] = './retailer_config/sephorapt_parsing.json'\n",
        "conf['gcloud_path'] = 'crawl_data/Portugal/Sephora_PT/'\n",
        "page_configs = []"
      ]
    },
    {
      "cell_type": "code",
      "execution_count": null,
      "id": "aab925a4",
      "metadata": {},
      "outputs": [],
      "source": [
        "departments = driver.find_elements(By.CLASS_NAME, 'nav-top-category')\n",
        "for department in departments:\n",
        "    action = ActionChains(driver)\n",
        "    action.move_to_element(department).perform()\n",
        "    time.sleep(2)\n",
        "    \n",
        "    department_name = department.find_element(By.CLASS_NAME, 'top-category-link').text\n",
        "    department_url = department.find_element(By.CLASS_NAME, 'top-category-link').get_attribute('href')\n",
        "    print(department_name + ' | ' + department_name + ' | ' + department_name)\n",
        "    print(department_url)\n",
        "    \n",
        "    page_config = conf.copy()            \n",
        "    page_config['department'] = department_name\n",
        "    page_config['category'] = department_name\n",
        "    page_config['page'] = department_name\n",
        "    page_config['page_url'] = department_url\n",
        "    page_config['file_name'] = getFilename(page_config)\n",
        "    page_configs.append(page_config)\n",
        "\n",
        "    categories = department.find_elements(By.CLASS_NAME, 'nav-level-3')\n",
        "    print(len(categories))\n",
        "    for category in categories:\n",
        "        if len(category.find_elements(By.CLASS_NAME, 'nav-level-3-link')):\n",
        "            category_name = category.find_element(By.CLASS_NAME, 'nav-level-3-link').text\n",
        "            category_link = category.find_element(By.CLASS_NAME, 'nav-level-3-link').get_attribute('href')\n",
        "            print(department_name + ' | ' + category_name + ' | ' + category_name)\n",
        "            print(category_link)\n",
        "            \n",
        "            page_config = conf.copy()            \n",
        "            page_config['department'] = department_name\n",
        "            page_config['category'] = category_name\n",
        "            page_config['page'] = category_name\n",
        "            page_config['page_url'] = category_link\n",
        "            page_config['file_name'] = getFilename(page_config)\n",
        "            page_configs.append(page_config)\n",
        "            \n",
        "            pages = category.find_elements(By.CLASS_NAME, 'nav-level-4-link')\n",
        "            for page in pages:\n",
        "                page_name = page.text\n",
        "                page_link = page.get_attribute('href')\n",
        "                print(department_name + ' | ' + category_name + ' | ' + page_name)\n",
        "                print(page_link)\n",
        "                \n",
        "                page_config = conf.copy()            \n",
        "                page_config['department'] = department_name\n",
        "                page_config['category'] = category_name\n",
        "                page_config['page'] = page_name\n",
        "                page_config['page_url'] = page_link\n",
        "                page_config['file_name'] = getFilename(page_config)\n",
        "                page_configs.append(page_config)\n",
        "                \n",
        "                \n",
        "    "
      ]
    },
    {
      "cell_type": "code",
      "execution_count": 70,
      "id": "c6f444b3",
      "metadata": {},
      "outputs": [],
      "source": [
        "with open(\"sephorapt_urls.json\", \"w\") as outfile:\n",
        "        json.dump(page_configs, outfile)"
      ]
    },
    {
      "cell_type": "code",
      "execution_count": 28,
      "id": "9384cd60",
      "metadata": {},
      "outputs": [],
      "source": [
        "products = driver.find_elements(By.CLASS_NAME, 'product-tile')"
      ]
    },
    {
      "cell_type": "code",
      "execution_count": 71,
      "id": "ceb2fb1e",
      "metadata": {},
      "outputs": [
        {
          "data": {
            "text/plain": [
              "282"
            ]
          },
          "execution_count": 71,
          "metadata": {},
          "output_type": "execute_result"
        }
      ],
      "source": [
        "len(page_configs)"
      ]
    },
    {
      "cell_type": "code",
      "execution_count": null,
      "id": "b34f1be8",
      "metadata": {},
      "outputs": [],
      "source": [
        "for product in products:\n",
        "    "
      ]
    }
  ],
  "metadata": {
    "kernelspec": {
      "display_name": "Python 3 (ipykernel)",
      "language": "python",
      "name": "python3"
    },
    "language_info": {
      "codemirror_mode": {
        "name": "ipython",
        "version": 3
      },
      "file_extension": ".py",
      "mimetype": "text/x-python",
      "name": "python",
      "nbconvert_exporter": "python",
      "pygments_lexer": "ipython3",
      "version": "3.9.9"
    }
  },
  "nbformat": 4,
  "nbformat_minor": 5
}
