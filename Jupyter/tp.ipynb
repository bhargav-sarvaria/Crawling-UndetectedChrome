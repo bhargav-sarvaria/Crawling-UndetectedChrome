{
 "cells": [
  {
   "cell_type": "code",
   "execution_count": 35,
   "id": "d1fa3342",
   "metadata": {},
   "outputs": [],
   "source": [
    "with open('ultano.txt') as file:\n",
    "    nou = [line.rstrip() for line in file]"
   ]
  },
  {
   "cell_type": "code",
   "execution_count": 36,
   "id": "ab78e56b",
   "metadata": {},
   "outputs": [
    {
     "data": {
      "text/plain": [
       "['https://www.ulta.com/discover/sparked',\n",
       " 'https://www.ulta.com/promotion/buy-more-save-more/',\n",
       " 'https://www.ulta.com/promotion/buy-more-save-more/',\n",
       " 'https://www.ulta.com/global/ulta-coupon.jsp',\n",
       " 'https://www.ulta.com/vba/foundation/',\n",
       " 'https://www.ulta.com/shade-finders/',\n",
       " 'https://www.ulta.com/vba/mascara/',\n",
       " 'https://www.ulta.com/innovation/glamlab/',\n",
       " 'https://www.ulta.com/discover/best-cosmetic-makeup-products',\n",
       " 'https://www.ulta.com/discover/beauty-reads',\n",
       " 'https://www.ulta.com/vba/skincare/',\n",
       " 'https://www.ulta.com/discover/skin-care-trends',\n",
       " 'https://www.ulta.com/vba/haircare/',\n",
       " 'https://www.ulta.com/innovation/glamlab/?category=hair',\n",
       " 'https://www.ulta.com/discover/best-hair-care-styling-products',\n",
       " 'https://www.ulta.com/discover/curly-textured-hair-products',\n",
       " 'https://www.ulta.com/discover/hair-tools',\n",
       " 'https://www.ulta.com/discover/hair-tools',\n",
       " 'https://www.ulta.com/fragrancefinder/',\n",
       " 'https://www.ulta.com/discover/fragrance-perfume-crush',\n",
       " 'https://www.ulta.com/giftcards',\n",
       " 'https://www.ulta.com/discover/all',\n",
       " 'https://www.ulta.com/vba/foundation/',\n",
       " 'https://www.ulta.com/shade-finders/',\n",
       " 'https://www.ulta.com/vba/mascara/',\n",
       " 'https://www.ulta.com/discover/best-cosmetic-makeup-products',\n",
       " 'https://www.ulta.com/innovation/glamlab/',\n",
       " 'https://www.ulta.com/vba/skincare/',\n",
       " 'https://www.ulta.com/discover/skin-care-trends',\n",
       " 'https://www.ulta.com/vba/haircare/',\n",
       " 'https://www.ulta.com/innovation/glamlab/?category=hair',\n",
       " 'https://www.ulta.com/discover/hair-tools',\n",
       " 'https://www.ulta.com/discover/best-hair-care-styling-products',\n",
       " 'https://www.ulta.com/fragrancefinder/',\n",
       " 'https://www.ulta.com/discover/fragrance-perfume-crush',\n",
       " 'https://www.ulta.com/beautyschoollive/?utm_source=ulta&utm_medium=nav&utm_campaign=tps',\n",
       " 'https://www.ulta.com/discover/black-owned-founded-beauty-brands',\n",
       " 'https://www.ulta.com/conscious-beauty/',\n",
       " 'https://www.ulta.com/giftcards',\n",
       " 'https://www.ulta.com/beautyservices/all',\n",
       " 'https://www.ulta.com/promotion/beauty-sale']"
      ]
     },
     "execution_count": 36,
     "metadata": {},
     "output_type": "execute_result"
    }
   ],
   "source": [
    "nou"
   ]
  },
  {
   "cell_type": "code",
   "execution_count": 37,
   "id": "44a6e742",
   "metadata": {},
   "outputs": [
    {
     "data": {
      "text/plain": [
       "343"
      ]
     },
     "execution_count": 37,
     "metadata": {},
     "output_type": "execute_result"
    }
   ],
   "source": [
    "import json\n",
    "crawl_urls = json.load(open('ultacom_urls.json','r'))\n",
    "len(crawl_urls)"
   ]
  },
  {
   "cell_type": "code",
   "execution_count": 38,
   "id": "2afbaef6",
   "metadata": {},
   "outputs": [
    {
     "name": "stdout",
     "output_type": "stream",
     "text": [
      "302\n"
     ]
    }
   ],
   "source": [
    "new_urls = []\n",
    "for curl in crawl_urls:\n",
    "    rurl = ''\n",
    "    flag = False\n",
    "    for nurl in nou:\n",
    "        if curl['page_url'].strip() == nurl.strip():\n",
    "            flag = True\n",
    "    if not flag:\n",
    "        new_urls.append(curl)        \n",
    "print(len(new_urls))\n",
    "            "
   ]
  },
  {
   "cell_type": "code",
   "execution_count": 40,
   "id": "dc0d78f1",
   "metadata": {},
   "outputs": [],
   "source": [
    "with open(\"ultacom_urls.json\", \"w\") as outfile:\n",
    "    json.dump(new_urls, outfile)\n",
    "        "
   ]
  }
 ],
 "metadata": {
  "kernelspec": {
   "display_name": "Python 3 (ipykernel)",
   "language": "python",
   "name": "python3"
  },
  "language_info": {
   "codemirror_mode": {
    "name": "ipython",
    "version": 3
   },
   "file_extension": ".py",
   "mimetype": "text/x-python",
   "name": "python",
   "nbconvert_exporter": "python",
   "pygments_lexer": "ipython3",
   "version": "3.9.9"
  }
 },
 "nbformat": 4,
 "nbformat_minor": 5
}
