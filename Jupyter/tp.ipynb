{
 "cells": [
  {
   "cell_type": "code",
   "execution_count": 35,
   "id": "d1fa3342",
   "metadata": {},
   "outputs": [],
   "source": [
    "with open('ultano.txt') as file:\n",
    "    nou = [line.rstrip() for line in file]"
   ]
  },
  {
   "cell_type": "code",
   "execution_count": 36,
   "id": "ab78e56b",
   "metadata": {},
   "outputs": [
    {
     "data": {
      "text/plain": [
       "['https://www.ulta.com/discover/sparked',\n",
       " 'https://www.ulta.com/promotion/buy-more-save-more/',\n",
       " 'https://www.ulta.com/promotion/buy-more-save-more/',\n",
       " 'https://www.ulta.com/global/ulta-coupon.jsp',\n",
       " 'https://www.ulta.com/vba/foundation/',\n",
       " 'https://www.ulta.com/shade-finders/',\n",
       " 'https://www.ulta.com/vba/mascara/',\n",
       " 'https://www.ulta.com/innovation/glamlab/',\n",
       " 'https://www.ulta.com/discover/best-cosmetic-makeup-products',\n",
       " 'https://www.ulta.com/discover/beauty-reads',\n",
       " 'https://www.ulta.com/vba/skincare/',\n",
       " 'https://www.ulta.com/discover/skin-care-trends',\n",
       " 'https://www.ulta.com/vba/haircare/',\n",
       " 'https://www.ulta.com/innovation/glamlab/?category=hair',\n",
       " 'https://www.ulta.com/discover/best-hair-care-styling-products',\n",
       " 'https://www.ulta.com/discover/curly-textured-hair-products',\n",
       " 'https://www.ulta.com/discover/hair-tools',\n",
       " 'https://www.ulta.com/discover/hair-tools',\n",
       " 'https://www.ulta.com/fragrancefinder/',\n",
       " 'https://www.ulta.com/discover/fragrance-perfume-crush',\n",
       " 'https://www.ulta.com/giftcards',\n",
       " 'https://www.ulta.com/discover/all',\n",
       " 'https://www.ulta.com/vba/foundation/',\n",
       " 'https://www.ulta.com/shade-finders/',\n",
       " 'https://www.ulta.com/vba/mascara/',\n",
       " 'https://www.ulta.com/discover/best-cosmetic-makeup-products',\n",
       " 'https://www.ulta.com/innovation/glamlab/',\n",
       " 'https://www.ulta.com/vba/skincare/',\n",
       " 'https://www.ulta.com/discover/skin-care-trends',\n",
       " 'https://www.ulta.com/vba/haircare/',\n",
       " 'https://www.ulta.com/innovation/glamlab/?category=hair',\n",
       " 'https://www.ulta.com/discover/hair-tools',\n",
       " 'https://www.ulta.com/discover/best-hair-care-styling-products',\n",
       " 'https://www.ulta.com/fragrancefinder/',\n",
       " 'https://www.ulta.com/discover/fragrance-perfume-crush',\n",
       " 'https://www.ulta.com/beautyschoollive/?utm_source=ulta&utm_medium=nav&utm_campaign=tps',\n",
       " 'https://www.ulta.com/discover/black-owned-founded-beauty-brands',\n",
       " 'https://www.ulta.com/conscious-beauty/',\n",
       " 'https://www.ulta.com/giftcards',\n",
       " 'https://www.ulta.com/beautyservices/all',\n",
       " 'https://www.ulta.com/promotion/beauty-sale']"
      ]
     },
     "execution_count": 36,
     "metadata": {},
     "output_type": "execute_result"
    }
   ],
   "source": [
    "nou"
   ]
  },
  {
   "cell_type": "code",
   "execution_count": 37,
   "id": "44a6e742",
   "metadata": {},
   "outputs": [
    {
     "data": {
      "text/plain": [
       "343"
      ]
     },
     "execution_count": 37,
     "metadata": {},
     "output_type": "execute_result"
    }
   ],
   "source": [
    "import json\n",
    "crawl_urls = json.load(open('ultacom_urls.json','r'))\n",
    "len(crawl_urls)"
   ]
  },
  {
   "cell_type": "code",
   "execution_count": 38,
   "id": "2afbaef6",
   "metadata": {},
   "outputs": [
    {
     "name": "stdout",
     "output_type": "stream",
     "text": [
      "302\n"
     ]
    }
   ],
   "source": [
    "new_urls = []\n",
    "for curl in crawl_urls:\n",
    "    rurl = ''\n",
    "    flag = False\n",
    "    for nurl in nou:\n",
    "        if curl['page_url'].strip() == nurl.strip():\n",
    "            flag = True\n",
    "    if not flag:\n",
    "        new_urls.append(curl)        \n",
    "print(len(new_urls))\n",
    "            "
   ]
  },
  {
   "cell_type": "code",
   "execution_count": 40,
   "id": "dc0d78f1",
   "metadata": {},
   "outputs": [],
   "source": [
    "with open(\"ultacom_urls.json\", \"w\") as outfile:\n",
    "    json.dump(new_urls, outfile)\n",
    "        "
   ]
  },
  {
   "cell_type": "code",
   "execution_count": 7,
   "id": "cfa5bae8",
   "metadata": {},
   "outputs": [],
   "source": [
    "\n",
    "import undetected_chromedriver.v2 as uc\n",
    "\n",
    "\n",
    "\n",
    "options = uc.ChromeOptions() \n",
    "# options.add_experimental_option(\"mobileEmulation\", mobile_emulation)\n",
    "options.add_argument('--user-agent=Mozilla/5.0 (iPhone; CPU iPhone OS 10_3 like Mac OS X) AppleWebKit/602.1.50 (KHTML, like Gecko) CriOS/56.0.2924.75 Mobile/14E5239e Safari/602.1')\n",
    "\n",
    "driver = uc.Chrome(options=options)\n",
    "\n",
    "url = \"https://google.com/\"\n",
    "driver.get(url)"
   ]
  },
  {
   "cell_type": "code",
   "execution_count": 8,
   "id": "bc3ef4e9",
   "metadata": {},
   "outputs": [
    {
     "name": "stderr",
     "output_type": "stream",
     "text": [
      "/var/folders/rg/3pygmmf50459yfnzzvp3y4nr0000gn/T/ipykernel_1153/1318461104.py:10: DeprecationWarning: executable_path has been deprecated, please pass in a Service object\n",
      "  d2 = webdriver.Chrome(\n"
     ]
    }
   ],
   "source": [
    "from selenium import webdriver\n",
    "from selenium.webdriver.chrome.options import Options\n",
    "mobile_emulation = {\n",
    "    \"deviceMetrics\": { \"width\": 375, \"height\": 812, \"pixelRatio\": 3.0 },\n",
    "    \"userAgent\": \"Mozilla/5.0 (Linux; Android 4.2.1; en-us; Nexus 5 Build/JOP40D) AppleWebKit/535.19 (KHTML, like Gecko) Chrome/18.0.1025.166 Mobile Safari/535.19\"\n",
    "}\n",
    "\n",
    "chrome_options = webdriver.ChromeOptions()\n",
    "chrome_options.add_experimental_option(\"mobileEmulation\", mobile_emulation)\n",
    "d2 = webdriver.Chrome(\n",
    "    '/Users/bhargavsarvaria/Desktop/Applications/DigitalShelfPlatform/chrome/driver_mac/chromedriver',\n",
    "     options=chrome_options\n",
    ")\n",
    "d2.get('https://www.sephora.com/')\n",
    "\n"
   ]
  }
 ],
 "metadata": {
  "kernelspec": {
   "display_name": "Python 3 (ipykernel)",
   "language": "python",
   "name": "python3"
  },
  "language_info": {
   "codemirror_mode": {
    "name": "ipython",
    "version": 3
   },
   "file_extension": ".py",
   "mimetype": "text/x-python",
   "name": "python",
   "nbconvert_exporter": "python",
   "pygments_lexer": "ipython3",
   "version": "3.9.9"
  }
 },
 "nbformat": 4,
 "nbformat_minor": 5
}
