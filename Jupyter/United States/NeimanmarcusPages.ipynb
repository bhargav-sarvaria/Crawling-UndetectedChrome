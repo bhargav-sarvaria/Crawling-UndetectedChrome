{
  "cells": [
    {
      "cell_type": "code",
      "execution_count": 11,
      "id": "6a718a85",
      "metadata": {},
      "outputs": [],
      "source": [
        "import undetected_chromedriver.v2 as uc\n",
        "from selenium.webdriver.support.ui import WebDriverWait\n",
        "from selenium.webdriver.support import expected_conditions as EC\n",
        "from selenium.webdriver.common.by import By\n",
        "from selenium.webdriver.common.action_chains import ActionChains\n",
        "from importlib.machinery import SourceFileLoader\n",
        "import time\n",
        "from selenium import webdriver\n",
        "import json"
      ]
    },
    {
      "cell_type": "code",
      "execution_count": 28,
      "id": "57d38a30",
      "metadata": {},
      "outputs": [],
      "source": [
        "def get_driver(country_name='United States'):\n",
        "    try:\n",
        "        opt = uc.ChromeOptions()\n",
        "        opt.add_argument(\"--no-sandbox\")\n",
        "        opt.add_argument(\"--disable-dev-shm-usage\")\n",
        "        opt.add_argument(\"--start-maximized\")\n",
        "        opt.add_argument(\"--disable-infobars\")\n",
        "        opt.add_argument('--disable-gpu')\n",
        "#         opt.add_argument('--blink-settings=imagesEnabled=false')\n",
        "        opt.add_argument(\"--user-agent=Mozilla/5.0 (Windows NT 10.0; Win64; x64) AppleWebKit/537.36 (KHTML, like Gecko) Chrome/76.0.3809.132 Safari/537.36\")\n",
        "        extension_folder = './chrome/extensions/'\n",
        "        opt.add_argument('--load-extension='+extension_folder+'hoxx')\n",
        "#         opt.add_argument('--load-extension='+extension_folder+'hoxx,'+extension_folder+'CSS-block,'+extension_folder+'GIF-blocker')\n",
        "        driver = uc.Chrome(options = opt, use_subprocess=True)\n",
        "        handles = driver.window_handles\n",
        "        while len(handles) != 2:\n",
        "            handles = driver.window_handles\n",
        "        for idx,handle in enumerate(handles):\n",
        "            if idx != 0:\n",
        "                driver.switch_to.window(handle)\n",
        "                driver.close()\n",
        "        driver.switch_to.window(handles[0])\n",
        "        driver.get('chrome-extension://nbcojefnccbanplpoffopkoepjmhgdgh/popup.html')\n",
        "        language_flag = False\n",
        "        loggedin_flag = False\n",
        "        WebDriverWait(driver, 20).until(EC.visibility_of_element_located((By.CLASS_NAME, 'mdc-list-item')))\n",
        "        languages = driver.find_elements(By.CLASS_NAME, 'mdc-list-item')\n",
        "        for language in languages:\n",
        "            if language.text == 'English':\n",
        "                language.click()\n",
        "                language_flag = True\n",
        "                break\n",
        "            elif language.text == 'India':\n",
        "                loggedin_flag = True\n",
        "                break\n",
        "\n",
        "        if language_flag:\n",
        "            WebDriverWait(driver, 20).until(EC.visibility_of_element_located((By.ID, 'email-input')))\n",
        "            driver.find_element(By.ID, 'email-input').click()\n",
        "            action = ActionChains(driver)\n",
        "            action.send_keys('ttsst132@gmail.com')\n",
        "            action.perform()\n",
        "            driver.find_element(By.ID, 'password-input').click()\n",
        "            action = ActionChains(driver)\n",
        "            action.send_keys('bhargav19')\n",
        "            action.perform()\n",
        "            driver.find_element(By.ID, 'login-button').click()\n",
        "            loggedin_flag = True\n",
        "\n",
        "        if loggedin_flag:\n",
        "            WebDriverWait(driver, 20).until(EC.visibility_of_element_located((By.CLASS_NAME, 'mdc-list-item')))\n",
        "            countries = driver.find_elements(By.CLASS_NAME, 'mdc-list-item')\n",
        "            for country in countries:\n",
        "                if country.text == country_name:\n",
        "                    driver.execute_script(\"arguments[0].scrollIntoView();\", country)\n",
        "                    country.click()\n",
        "                    WebDriverWait(driver, 20).until(EC.visibility_of_element_located((By.CLASS_NAME, 'connected-view__status-title')))\n",
        "                    print('Created the final driver for Country: ' + country_name)\n",
        "                    return driver\n",
        "    except Exception as e:\n",
        "        print(e)\n",
        "    return None\n"
      ]
    },
    {
      "cell_type": "code",
      "execution_count": 60,
      "id": "87a5c9c2",
      "metadata": {
        "scrolled": true
      },
      "outputs": [
        {
          "name": "stdout",
          "output_type": "stream",
          "text": [
            "Created the final driver for Country: United States\n"
          ]
        },
        {
          "ename": "NoSuchElementException",
          "evalue": "Message: no such element: Unable to locate element: {\"method\":\"css selector\",\"selector\":\"[id=\"silo-navigation\"]\"}\n  (Session info: chrome=98.0.4758.102)\nStacktrace:\n0   chromedriver                        0x00000001009bcee9 chromedriver + 5013225\n1   chromedriver                        0x00000001009481d3 chromedriver + 4534739\n2   chromedriver                        0x000000010051ea68 chromedriver + 170600\n3   chromedriver                        0x0000000100553152 chromedriver + 385362\n4   chromedriver                        0x0000000100553311 chromedriver + 385809\n5   chromedriver                        0x0000000100585324 chromedriver + 590628\n6   chromedriver                        0x000000010057080d chromedriver + 505869\n7   chromedriver                        0x0000000100583074 chromedriver + 581748\n8   chromedriver                        0x00000001005706d3 chromedriver + 505555\n9   chromedriver                        0x000000010054676e chromedriver + 333678\n10  chromedriver                        0x0000000100547745 chromedriver + 337733\n11  chromedriver                        0x0000000100978efe chromedriver + 4734718\n12  chromedriver                        0x0000000100992a19 chromedriver + 4839961\n13  chromedriver                        0x00000001009981c8 chromedriver + 4862408\n14  chromedriver                        0x00000001009933aa chromedriver + 4842410\n15  chromedriver                        0x000000010096da01 chromedriver + 4688385\n16  chromedriver                        0x00000001009ae538 chromedriver + 4953400\n17  chromedriver                        0x00000001009ae6c1 chromedriver + 4953793\n18  chromedriver                        0x00000001009c4225 chromedriver + 5042725\n19  libsystem_pthread.dylib             0x00007ff81b7cd4f4 _pthread_start + 125\n20  libsystem_pthread.dylib             0x00007ff81b7c900f thread_start + 15\n",
          "output_type": "error",
          "traceback": [
            "\u001b[0;31m---------------------------------------------------------------------------\u001b[0m",
            "\u001b[0;31mNoSuchElementException\u001b[0m                    Traceback (most recent call last)",
            "Input \u001b[0;32mIn [60]\u001b[0m, in \u001b[0;36m<module>\u001b[0;34m\u001b[0m\n\u001b[1;32m      1\u001b[0m driver \u001b[38;5;241m=\u001b[39m get_driver(\u001b[38;5;124m'\u001b[39m\u001b[38;5;124mUnited States\u001b[39m\u001b[38;5;124m'\u001b[39m)\n\u001b[1;32m      2\u001b[0m driver\u001b[38;5;241m.\u001b[39mget(\u001b[38;5;124m'\u001b[39m\u001b[38;5;124mhttps://www.nordstrom.ca\u001b[39m\u001b[38;5;124m'\u001b[39m)\n\u001b[0;32m----> 3\u001b[0m nav \u001b[38;5;241m=\u001b[39m \u001b[43mdriver\u001b[49m\u001b[38;5;241;43m.\u001b[39;49m\u001b[43mfind_element\u001b[49m\u001b[43m(\u001b[49m\u001b[43mBy\u001b[49m\u001b[38;5;241;43m.\u001b[39;49m\u001b[43mID\u001b[49m\u001b[43m,\u001b[49m\u001b[43m \u001b[49m\u001b[38;5;124;43m'\u001b[39;49m\u001b[38;5;124;43msilo-navigation\u001b[39;49m\u001b[38;5;124;43m'\u001b[39;49m\u001b[43m)\u001b[49m\u001b[38;5;241m.\u001b[39mfind_element(By\u001b[38;5;241m.\u001b[39mTAG_NAME, \u001b[38;5;124m'\u001b[39m\u001b[38;5;124mul\u001b[39m\u001b[38;5;124m'\u001b[39m)\n\u001b[1;32m      4\u001b[0m departments \u001b[38;5;241m=\u001b[39m nav\u001b[38;5;241m.\u001b[39mfind_elements(By\u001b[38;5;241m.\u001b[39mXPATH, \u001b[38;5;124m'\u001b[39m\u001b[38;5;124m./li\u001b[39m\u001b[38;5;124m'\u001b[39m)\n\u001b[1;32m      5\u001b[0m departments_texts \u001b[38;5;241m=\u001b[39m []\n",
            "File \u001b[0;32m~/.pyenv/versions/3.9.9/lib/python3.9/site-packages/selenium/webdriver/remote/webdriver.py:1244\u001b[0m, in \u001b[0;36mWebDriver.find_element\u001b[0;34m(self, by, value)\u001b[0m\n\u001b[1;32m   1241\u001b[0m     by \u001b[38;5;241m=\u001b[39m By\u001b[38;5;241m.\u001b[39mCSS_SELECTOR\n\u001b[1;32m   1242\u001b[0m     value \u001b[38;5;241m=\u001b[39m \u001b[38;5;124m'\u001b[39m\u001b[38;5;124m[name=\u001b[39m\u001b[38;5;124m\"\u001b[39m\u001b[38;5;132;01m%s\u001b[39;00m\u001b[38;5;124m\"\u001b[39m\u001b[38;5;124m]\u001b[39m\u001b[38;5;124m'\u001b[39m \u001b[38;5;241m%\u001b[39m value\n\u001b[0;32m-> 1244\u001b[0m \u001b[38;5;28;01mreturn\u001b[39;00m \u001b[38;5;28;43mself\u001b[39;49m\u001b[38;5;241;43m.\u001b[39;49m\u001b[43mexecute\u001b[49m\u001b[43m(\u001b[49m\u001b[43mCommand\u001b[49m\u001b[38;5;241;43m.\u001b[39;49m\u001b[43mFIND_ELEMENT\u001b[49m\u001b[43m,\u001b[49m\u001b[43m \u001b[49m\u001b[43m{\u001b[49m\n\u001b[1;32m   1245\u001b[0m \u001b[43m    \u001b[49m\u001b[38;5;124;43m'\u001b[39;49m\u001b[38;5;124;43musing\u001b[39;49m\u001b[38;5;124;43m'\u001b[39;49m\u001b[43m:\u001b[49m\u001b[43m \u001b[49m\u001b[43mby\u001b[49m\u001b[43m,\u001b[49m\n\u001b[1;32m   1246\u001b[0m \u001b[43m    \u001b[49m\u001b[38;5;124;43m'\u001b[39;49m\u001b[38;5;124;43mvalue\u001b[39;49m\u001b[38;5;124;43m'\u001b[39;49m\u001b[43m:\u001b[49m\u001b[43m \u001b[49m\u001b[43mvalue\u001b[49m\u001b[43m}\u001b[49m\u001b[43m)\u001b[49m[\u001b[38;5;124m'\u001b[39m\u001b[38;5;124mvalue\u001b[39m\u001b[38;5;124m'\u001b[39m]\n",
            "File \u001b[0;32m~/.pyenv/versions/3.9.9/lib/python3.9/site-packages/selenium/webdriver/remote/webdriver.py:424\u001b[0m, in \u001b[0;36mWebDriver.execute\u001b[0;34m(self, driver_command, params)\u001b[0m\n\u001b[1;32m    422\u001b[0m response \u001b[38;5;241m=\u001b[39m \u001b[38;5;28mself\u001b[39m\u001b[38;5;241m.\u001b[39mcommand_executor\u001b[38;5;241m.\u001b[39mexecute(driver_command, params)\n\u001b[1;32m    423\u001b[0m \u001b[38;5;28;01mif\u001b[39;00m response:\n\u001b[0;32m--> 424\u001b[0m     \u001b[38;5;28;43mself\u001b[39;49m\u001b[38;5;241;43m.\u001b[39;49m\u001b[43merror_handler\u001b[49m\u001b[38;5;241;43m.\u001b[39;49m\u001b[43mcheck_response\u001b[49m\u001b[43m(\u001b[49m\u001b[43mresponse\u001b[49m\u001b[43m)\u001b[49m\n\u001b[1;32m    425\u001b[0m     response[\u001b[38;5;124m'\u001b[39m\u001b[38;5;124mvalue\u001b[39m\u001b[38;5;124m'\u001b[39m] \u001b[38;5;241m=\u001b[39m \u001b[38;5;28mself\u001b[39m\u001b[38;5;241m.\u001b[39m_unwrap_value(\n\u001b[1;32m    426\u001b[0m         response\u001b[38;5;241m.\u001b[39mget(\u001b[38;5;124m'\u001b[39m\u001b[38;5;124mvalue\u001b[39m\u001b[38;5;124m'\u001b[39m, \u001b[38;5;28;01mNone\u001b[39;00m))\n\u001b[1;32m    427\u001b[0m     \u001b[38;5;28;01mreturn\u001b[39;00m response\n",
            "File \u001b[0;32m~/.pyenv/versions/3.9.9/lib/python3.9/site-packages/selenium/webdriver/remote/errorhandler.py:247\u001b[0m, in \u001b[0;36mErrorHandler.check_response\u001b[0;34m(self, response)\u001b[0m\n\u001b[1;32m    245\u001b[0m         alert_text \u001b[38;5;241m=\u001b[39m value[\u001b[38;5;124m'\u001b[39m\u001b[38;5;124malert\u001b[39m\u001b[38;5;124m'\u001b[39m]\u001b[38;5;241m.\u001b[39mget(\u001b[38;5;124m'\u001b[39m\u001b[38;5;124mtext\u001b[39m\u001b[38;5;124m'\u001b[39m)\n\u001b[1;32m    246\u001b[0m     \u001b[38;5;28;01mraise\u001b[39;00m exception_class(message, screen, stacktrace, alert_text)  \u001b[38;5;66;03m# type: ignore[call-arg]  # mypy is not smart enough here\u001b[39;00m\n\u001b[0;32m--> 247\u001b[0m \u001b[38;5;28;01mraise\u001b[39;00m exception_class(message, screen, stacktrace)\n",
            "\u001b[0;31mNoSuchElementException\u001b[0m: Message: no such element: Unable to locate element: {\"method\":\"css selector\",\"selector\":\"[id=\"silo-navigation\"]\"}\n  (Session info: chrome=98.0.4758.102)\nStacktrace:\n0   chromedriver                        0x00000001009bcee9 chromedriver + 5013225\n1   chromedriver                        0x00000001009481d3 chromedriver + 4534739\n2   chromedriver                        0x000000010051ea68 chromedriver + 170600\n3   chromedriver                        0x0000000100553152 chromedriver + 385362\n4   chromedriver                        0x0000000100553311 chromedriver + 385809\n5   chromedriver                        0x0000000100585324 chromedriver + 590628\n6   chromedriver                        0x000000010057080d chromedriver + 505869\n7   chromedriver                        0x0000000100583074 chromedriver + 581748\n8   chromedriver                        0x00000001005706d3 chromedriver + 505555\n9   chromedriver                        0x000000010054676e chromedriver + 333678\n10  chromedriver                        0x0000000100547745 chromedriver + 337733\n11  chromedriver                        0x0000000100978efe chromedriver + 4734718\n12  chromedriver                        0x0000000100992a19 chromedriver + 4839961\n13  chromedriver                        0x00000001009981c8 chromedriver + 4862408\n14  chromedriver                        0x00000001009933aa chromedriver + 4842410\n15  chromedriver                        0x000000010096da01 chromedriver + 4688385\n16  chromedriver                        0x00000001009ae538 chromedriver + 4953400\n17  chromedriver                        0x00000001009ae6c1 chromedriver + 4953793\n18  chromedriver                        0x00000001009c4225 chromedriver + 5042725\n19  libsystem_pthread.dylib             0x00007ff81b7cd4f4 _pthread_start + 125\n20  libsystem_pthread.dylib             0x00007ff81b7c900f thread_start + 15\n"
          ]
        }
      ],
      "source": [
        "driver = get_driver('United States')\n",
        "driver.get('https://www.neimanmarcus.com/')"
      ]
    },
    {
      "cell_type": "code",
      "execution_count": 62,
      "id": "5925cdb7",
      "metadata": {},
      "outputs": [
        {
          "name": "stdout",
          "output_type": "stream",
          "text": [
            "['NEW & NOW', 'DESIGNERS', 'CLOTHING', 'SHOES', 'HANDBAGS', 'JEWELRY & ACCESSORIES', 'BEAUTY', 'KIDS', 'HOME', 'GIFTS', 'MAGAZINE', 'SALE']\n"
          ]
        }
      ],
      "source": [
        "nav = driver.find_element(By.ID, 'silo-navigation').find_element(By.TAG_NAME, 'ul')\n",
        "departments = nav.find_elements(By.XPATH, './li')\n",
        "departments_texts = []\n",
        "for department in departments:\n",
        "    departments_texts.append(department.find_element(By.CLASS_NAME, 'silo-link').text)\n",
        "print(departments_texts)"
      ]
    },
    {
      "cell_type": "code",
      "execution_count": 80,
      "id": "ea16fd8e",
      "metadata": {},
      "outputs": [],
      "source": [
        "conf = {}\n",
        "conf['country'] = 'United States'\n",
        "conf['retailer'] = 'Neimanmarcus'\n",
        "conf['parsing_config'] = './retailer_config/neimanmarcuscom_parsing.json'\n",
        "conf['gcloud_path'] = 'crawl_data/United States/Neimanmarcus/'\n",
        "page_configs = []"
      ]
    },
    {
      "cell_type": "code",
      "execution_count": 81,
      "id": "bf5ea3b6",
      "metadata": {},
      "outputs": [],
      "source": [
        "for did, department in enumerate(departments):\n",
        "#     if did != 6:\n",
        "#         continue\n",
        "    action = ActionChains(driver)\n",
        "    action.move_to_element(department).perform()\n",
        "    time.sleep(0.5)\n",
        "    splits = department.find_elements(By.CLASS_NAME, 'menu-wrapper')\n",
        "    categories = []\n",
        "    for split in splits:\n",
        "        categories += split.find_elements(By.XPATH, './div')\n",
        "    \n",
        "    for category in categories:\n",
        "        category_landing_page = category.find_element(By.XPATH, './h6/a')\n",
        "        page_config = conf.copy()            \n",
        "        page_config['department'] = departments_texts[did].strip()\n",
        "        page_config['category'] = category_landing_page.text.strip()\n",
        "        page_config['page'] = category_landing_page.text.strip()\n",
        "        page_config['page_url'] = category_landing_page.get_attribute('href')\n",
        "        file_name = page_config['country'] + '_' + page_config['retailer'] + '_' + page_config['department'] + '_' + page_config['category'] + '_' + page_config['page']\n",
        "        for k, v in json.load(open('config/encoding.json', 'r')).items():\n",
        "            file_name = file_name.replace(k, v)\n",
        "            file_name = file_name.replace('\\\\', '')\n",
        "        page_config['file_name'] = file_name\n",
        "        page_configs.append(page_config)\n",
        "        \n",
        "        pages = category.find_elements(By.XPATH, './ul/li/a')\n",
        "        for page in pages:\n",
        "            page_config = conf.copy()            \n",
        "            page_config['department'] = departments_texts[did].strip()\n",
        "            page_config['category'] = category_landing_page.text.strip()\n",
        "            page_config['page'] = page.text.strip()\n",
        "            page_config['page_url'] = page.get_attribute('href')\n",
        "            file_name = page_config['country'] + '_' + page_config['retailer'] + '_' + page_config['department'] + '_' + page_config['category'] + '_' + page_config['page']\n",
        "            for k, v in json.load(open('config/encoding.json', 'r')).items():\n",
        "                file_name = file_name.replace(k, v)\n",
        "                file_name = file_name.replace('\\\\', '')\n",
        "            page_config['file_name'] = file_name\n",
        "            page_configs.append(page_config)\n",
        "\n",
        "        "
      ]
    },
    {
      "cell_type": "code",
      "execution_count": 83,
      "id": "0a6936bc",
      "metadata": {},
      "outputs": [],
      "source": [
        "with open(\"neimanmarcuscom_urls.json\", \"w\") as outfile:\n",
        "        json.dump(page_configs, outfile)"
      ]
    },
    {
      "cell_type": "code",
      "execution_count": 84,
      "id": "158dbea7",
      "metadata": {},
      "outputs": [
        {
          "data": {
            "text/plain": [
              "{'country': 'United States',\n",
              " 'retailer': 'Neimanmarcus',\n",
              " 'parsing_config': './retailer_config/neimanmarcuscom_parsing.json',\n",
              " 'gcloud_path': 'crawl_data/United States/Neimanmarcus/',\n",
              " 'department': 'NEW & NOW',\n",
              " 'category': 'All New Arrivals',\n",
              " 'page': 'All New Arrivals',\n",
              " 'page_url': 'https://www.neimanmarcus.com/c/new-now-all-new-arrivals-cat84680809?navpath=cat000000_cat84680805_cat84680809',\n",
              " 'file_name': 'United|sp|States_Neimanmarcus_NEW|sp||as||sp|NOW_All|sp|New|sp|Arrivals_All|sp|New|sp|Arrivals'}"
            ]
          },
          "execution_count": 84,
          "metadata": {},
          "output_type": "execute_result"
        }
      ],
      "source": [
        "page_configs[0]"
      ]
    }
  ],
  "metadata": {
    "kernelspec": {
      "display_name": "Python 3 (ipykernel)",
      "language": "python",
      "name": "python3"
    },
    "language_info": {
      "codemirror_mode": {
        "name": "ipython",
        "version": 3
      },
      "file_extension": ".py",
      "mimetype": "text/x-python",
      "name": "python",
      "nbconvert_exporter": "python",
      "pygments_lexer": "ipython3",
      "version": "3.9.9"
    }
  },
  "nbformat": 4,
  "nbformat_minor": 5
}
