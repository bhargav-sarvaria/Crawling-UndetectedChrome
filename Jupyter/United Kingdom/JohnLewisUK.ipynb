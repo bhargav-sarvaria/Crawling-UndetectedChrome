{
  "cells": [
    {
      "cell_type": "code",
      "execution_count": null,
      "id": "e9cca549",
      "metadata": {},
      "outputs": [],
      "source": [
        "import undetected_chromedriver.v2 as uc\n",
        "from selenium.webdriver.support.ui import WebDriverWait\n",
        "from selenium.webdriver.support import expected_conditions as EC\n",
        "from selenium.webdriver.common.by import By\n",
        "from selenium.webdriver.common.action_chains import ActionChains\n",
        "from importlib.machinery import SourceFileLoader\n",
        "import time\n",
        "from selenium import webdriver\n",
        "import json"
      ]
    },
    {
      "cell_type": "code",
      "execution_count": null,
      "id": "11530e4a",
      "metadata": {},
      "outputs": [],
      "source": [
        "driver = uc.Chrome()\n",
        "base_url = 'https://www.johnlewis.com/'\n",
        "driver.get(base_url)"
      ]
    },
    {
      "cell_type": "code",
      "execution_count": null,
      "id": "d36e384d",
      "metadata": {},
      "outputs": [],
      "source": [
        "WebDriverWait(driver, 10).until(EC.visibility_of_element_located((By.CLASS_NAME, 'c-button-yMKB7')))\n",
        "accept_cookies = driver.find_elements(By.CLASS_NAME, 'c-button-yMKB7')\n",
        "if len(accept_cookies) > 0:\n",
        "    accept_cookies[0].click()"
      ]
    },
    {
      "cell_type": "code",
      "execution_count": null,
      "id": "256dad28",
      "metadata": {},
      "outputs": [],
      "source": [
        "def getFilename(conf):\n",
        "    file_name = page_config['country'] + '_' + page_config['retailer'] + '_' + page_config['department'] + '_' + page_config['category'] + '_' + page_config['page']\n",
        "    for k, v in json.load(open('config/encoding.json', 'r')).items():\n",
        "        file_name = file_name.replace(k, v)\n",
        "        file_name = file_name.replace('\\\\', '')\n",
        "    return file_name\n",
        "\n",
        "\n",
        "conf = {}\n",
        "conf['country'] = 'United Kingdom'\n",
        "conf['retailer'] = 'John Lewis'\n",
        "conf['parsing_config'] = './retailer_config/johnlewis_parsing.json'\n",
        "conf['gcloud_path'] = 'crawl_data/United Kingdom/John_Lewis/'\n",
        "page_configs = []"
      ]
    },
    {
      "cell_type": "code",
      "execution_count": null,
      "id": "a5b7dfba",
      "metadata": {},
      "outputs": [],
      "source": [
        "departments = driver.find_elements(By.CLASS_NAME, 'DesktopMenuItem-desktopMenuItem--75bbf')\n",
        "departments_texts = []\n",
        "\n",
        "for did, department in enumerate(departments[3:5]):\n",
        "    action = ActionChains(driver)\n",
        "    action.move_to_element(department).perform()\n",
        "    time.sleep(1)\n",
        "    department_name = department.find_element(By.TAG_NAME, 'a').text\n",
        "    department_url = department.find_element(By.TAG_NAME, 'a').get_attribute('href')\n",
        "    \n",
        "    page_config = conf.copy()            \n",
        "    page_config['department'] = department_name\n",
        "    page_config['category'] = department_name\n",
        "    page_config['page'] = department_name\n",
        "    page_config['page_url'] = department_url\n",
        "    page_config['file_name'] = getFilename(page_config)\n",
        "    page_configs.append(page_config)\n",
        "    \n",
        "    print(department_name + ' | ' + department_name + ' | ' + department_name)\n",
        "    print(department_url)\n",
        "    \n",
        "    splits = department.find_elements(By.XPATH, './div/div/ul')\n",
        "    categories = []\n",
        "    for split in splits:\n",
        "        categories.extend(split.find_elements(By.XPATH, './li'))\n",
        "        \n",
        "    for category in categories:\n",
        "        category_name = category.find_element(By.TAG_NAME, 'h4').text\n",
        "        \n",
        "        if(category.find_elements(By.XPATH, './a')):\n",
        "            print(department_name + ' | ' + category_name + ' | ' + category_name)\n",
        "            print(category.find_element(By.XPATH, './a').get_attribute('href'))\n",
        "        \n",
        "        pages = category.find_elements(By.XPATH, './ul/li/a')\n",
        "        for page in pages:\n",
        "            page_name = page.text\n",
        "            page_url = page.get_attribute('href')\n",
        "            \n",
        "            page_config = conf.copy()            \n",
        "            page_config['department'] = department_name\n",
        "            page_config['category'] = category_name\n",
        "            page_config['page'] = page_name\n",
        "            page_config['page_url'] = page_url\n",
        "            page_config['file_name'] = getFilename(page_config)\n",
        "            page_configs.append(page_config)  \n",
        "            print(department_name + ' | ' + category_name + ' | ' + page_name)\n",
        "            print(page_url)\n",
        "            "
      ]
    },
    {
      "cell_type": "code",
      "execution_count": null,
      "id": "79c12602",
      "metadata": {},
      "outputs": [],
      "source": [
        "with open(\"johnlewiscom_urls.json\", \"w\") as outfile:\n",
        "        json.dump(page_configs, outfile)"
      ]
    },
    {
      "cell_type": "code",
      "execution_count": null,
      "id": "42221deb",
      "metadata": {},
      "outputs": [],
      "source": [
        "len(page_configs)\n",
        "for conf in page_configs:\n",
        "    conf['country'] = 'United Kingdom'\n",
        "    conf['retailer'] = 'John Lewis'\n",
        "    conf['parsing_config'] = './retailer_config/johnlewis_parsing.json'\n",
        "    conf['gcloud_path'] = 'crawl_data/United Kingdom/John_Lewis/'"
      ]
    }
  ],
  "metadata": {
    "kernelspec": {
      "display_name": "Python 3 (ipykernel)",
      "language": "python",
      "name": "python3"
    },
    "language_info": {
      "codemirror_mode": {
        "name": "ipython",
        "version": 3
      },
      "file_extension": ".py",
      "mimetype": "text/x-python",
      "name": "python",
      "nbconvert_exporter": "python",
      "pygments_lexer": "ipython3",
      "version": "3.9.9"
    }
  },
  "nbformat": 4,
  "nbformat_minor": 5
}
