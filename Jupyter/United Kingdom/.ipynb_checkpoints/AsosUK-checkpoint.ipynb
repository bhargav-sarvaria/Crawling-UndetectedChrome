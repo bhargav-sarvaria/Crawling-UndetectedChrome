{
  "cells": [
    {
      "cell_type": "code",
      "execution_count": 1,
      "id": "b5b9da08",
      "metadata": {},
      "outputs": [],
      "source": [
        "import undetected_chromedriver.v2 as uc\n",
        "from selenium.webdriver.support.ui import WebDriverWait\n",
        "from selenium.webdriver.support import expected_conditions as EC\n",
        "from selenium.webdriver.common.by import By\n",
        "from selenium.webdriver.common.action_chains import ActionChains\n",
        "from importlib.machinery import SourceFileLoader\n",
        "import time\n",
        "from selenium import webdriver\n",
        "import json"
      ]
    },
    {
      "cell_type": "code",
      "execution_count": 2,
      "id": "fe4d24d3",
      "metadata": {},
      "outputs": [],
      "source": [
        "driver = uc.Chrome()\n",
        "base_url = 'https://www.ulta.com'\n",
        "driver.get(base_url)"
      ]
    },
    {
      "cell_type": "code",
      "execution_count": 3,
      "id": "7b6b4893",
      "metadata": {},
      "outputs": [],
      "source": [
        "def getFilename(conf):\n",
        "    file_name = page_config['country'] + '_' + page_config['retailer'] + '_' + page_config['department'] + '_' + page_config['category'] + '_' + page_config['page']\n",
        "    for k, v in json.load(open('config/encoding.json', 'r')).items():\n",
        "        file_name = file_name.replace(k, v)\n",
        "        file_name = file_name.replace('\\\\', '')\n",
        "    return file_name\n",
        "\n",
        "\n",
        "conf = {}\n",
        "conf['country'] = 'United States'\n",
        "conf['retailer'] = 'Ulta'\n",
        "conf['parsing_config'] = './retailer_config/ultacom_parsing.json'\n",
        "conf['gcloud_path'] = 'crawl_data/United States/Ulta/'\n",
        "page_configs = []"
      ]
    },
    {
      "cell_type": "code",
      "execution_count": 24,
      "id": "16a78955",
      "metadata": {
        "scrolled": false
      },
      "outputs": [],
      "source": [
        "driver.find_element(By.CLASS_NAME, 'DesktopHeader__HambMenu').click()\n",
        "departments = driver.find_elements(By.CLASS_NAME, 'DesktopLeftNav__navItemContainer')\n",
        "for department in departments[3:4]:\n",
        "    department_name = department.find_element(By.CLASS_NAME, 'DesktopLeftNav__navItem').find_element(By.XPATH, './a').text\n",
        "    department_url = department.find_element(By.CLASS_NAME, 'DesktopLeftNav__navItem').find_element(By.XPATH, './a').get_attribute('href')\n",
        "#     print(department_name, department_name, department_name)\n",
        "#     print(department_url)\n",
        "    action = ActionChains(driver)\n",
        "    action.move_to_element(department).perform()\n",
        "    time.sleep(1)\n",
        "    categories = department.find_elements(By.CLASS_NAME, 'DesktopLeftNavSection__panelSection')\n",
        "    for category in categories:\n",
        "        category_element = category.find_element(By.XPATH, './div[1]').find_element(By.XPATH, './a')\n",
        "        category_name = category_element.text\n",
        "        caetgory_url = category_element.get_attribute('href')\n",
        "#         print(department_name, category_name, category_name)\n",
        "#         print(caetgory_url)\n",
        "        \n",
        "#         category_name = category.find_element(By.TAG_NAME, 'h2').text\n",
        "#         pages = category.find_elements(By.XPATH, './ul/li/a')\n",
        "#         for page in pages:\n",
        "#             page_config = conf.copy()            \n",
        "#             page_config['department'] = 'Men_' + department_name\n",
        "#             page_config['category'] = category_name\n",
        "#             page_config['page'] = page.text\n",
        "#             page_config['page_url'] = page.get_attribute('href')\n",
        "#             page_config['file_name'] = getFilename(page_config)\n",
        "#             page_configs.append(page_config)\n",
        "#             print(department_name + ' | ' + category_name + ' | ' + page.text)\n",
        "#             print(page.get_attribute('href'))"
      ]
    },
    {
      "cell_type": "code",
      "execution_count": 47,
      "id": "30194e77",
      "metadata": {},
      "outputs": [],
      "source": [
        "with open(\"asoscom_urls.json\", \"w\") as outfile:\n",
        "        json.dump(page_configs, outfile)\n",
        "        "
      ]
    }
  ],
  "metadata": {
    "kernelspec": {
      "display_name": "Python 3 (ipykernel)",
      "language": "python",
      "name": "python3"
    },
    "language_info": {
      "codemirror_mode": {
        "name": "ipython",
        "version": 3
      },
      "file_extension": ".py",
      "mimetype": "text/x-python",
      "name": "python",
      "nbconvert_exporter": "python",
      "pygments_lexer": "ipython3",
      "version": "3.9.9"
    }
  },
  "nbformat": 4,
  "nbformat_minor": 5
}
