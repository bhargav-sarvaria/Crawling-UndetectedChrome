{
  "cells": [
    {
      "cell_type": "code",
      "execution_count": null,
      "id": "0a7e2b68",
      "metadata": {},
      "outputs": [],
      "source": [
        "import undetected_chromedriver.v2 as uc\n",
        "from selenium.webdriver.support.ui import WebDriverWait\n",
        "from selenium.webdriver.support import expected_conditions as EC\n",
        "from selenium.webdriver.common.by import By\n",
        "from selenium.webdriver.common.action_chains import ActionChains\n",
        "from importlib.machinery import SourceFileLoader\n",
        "import time\n",
        "from selenium import webdriver\n",
        "import json"
      ]
    },
    {
      "cell_type": "code",
      "execution_count": null,
      "id": "facc59db",
      "metadata": {},
      "outputs": [],
      "source": [
        "base_url = 'https://www.boots.com/'\n",
        "driver = uc.Chrome()\n",
        "driver.get(base_url)"
      ]
    },
    {
      "cell_type": "code",
      "execution_count": null,
      "id": "a4ca8673",
      "metadata": {},
      "outputs": [],
      "source": [
        "WebDriverWait(driver, 10).until(EC.visibility_of_element_located((By.ID, 'onetrust-accept-btn-handler')))\n",
        "accept_cookies = driver.find_elements(By.ID, 'onetrust-accept-btn-handler')\n",
        "if len(accept_cookies) > 0:\n",
        "    accept_cookies[0].click()"
      ]
    },
    {
      "cell_type": "code",
      "execution_count": null,
      "id": "2ea5b052",
      "metadata": {},
      "outputs": [],
      "source": [
        "conf = {}\n",
        "conf['country'] = 'United Kingdom'\n",
        "conf['retailer'] = 'Boots'\n",
        "conf['parsing_config'] = './retailer_config/bootscom_parsing.json'\n",
        "conf['gcloud_path'] = 'crawl_data/United Kingdom/Boots/'\n",
        "page_configs = []"
      ]
    },
    {
      "cell_type": "code",
      "execution_count": null,
      "id": "87b0491e",
      "metadata": {},
      "outputs": [],
      "source": [
        "def getFilename(conf):\n",
        "    file_name = page_config['country'] + '_' + page_config['retailer'] + '_' + page_config['department'] + '_' + page_config['category'] + '_' + page_config['page']\n",
        "    for k, v in json.load(open('config/encoding.json', 'r')).items():\n",
        "        file_name = file_name.replace(k, v)\n",
        "        file_name = file_name.replace('\\\\', '')\n",
        "    return file_name\n"
      ]
    },
    {
      "cell_type": "code",
      "execution_count": null,
      "id": "b1202baf",
      "metadata": {
        "scrolled": true
      },
      "outputs": [],
      "source": [
        "departments_container = driver.find_element(By.CLASS_NAME, 'topLevelMenuListItem')\n",
        "action = ActionChains(driver)\n",
        "action.move_to_element(departments_container).perform()\n",
        "departments = departments_container.find_elements(By.CLASS_NAME, 'departmentMenuListItem')\n",
        "departments_texts = []\n",
        "for department in departments:\n",
        "    action = ActionChains(driver)\n",
        "    action.move_to_element(department).perform()\n",
        "    time.sleep(1)\n",
        "    department_name = department.find_element(By.CLASS_NAME,'menuItemLabel').text.strip()\n",
        "    department_page = department.find_elements(By.CLASS_NAME, 'viewAllHeader')\n",
        "    if not len(department_page):\n",
        "        continue\n",
        "    print(department_name + ' | ' + department_page[0].text.strip() + ' | ' + department_page[0].text.strip())\n",
        "    print(department_page[0].get_attribute('href'))\n",
        "    print('********')\n",
        "    page_config = conf.copy()     \n",
        "    page_config['department'] = department_name\n",
        "    page_config['category'] = department_page[0].text.strip()\n",
        "    page_config['page'] = department_page[0].text.strip()\n",
        "    page_config['page_url'] = department_page[0].get_attribute('href')\n",
        "    page_config['file_name'] = getFilename(page_config)\n",
        "    page_configs.append(page_config)\n",
        "#     print(page_config)\n",
        "    \n",
        "    categories = department.find_elements(By.CLASS_NAME, 'categoryMenuListItem')\n",
        "    for cat in categories[1:]:\n",
        "        action = ActionChains(driver)\n",
        "        action.move_to_element(cat).perform()\n",
        "        time.sleep(2)\n",
        "        category_name = cat.find_element(By.CLASS_NAME, 'categoryLinkItem').text\n",
        "        \n",
        "        if len(cat.find_elements(By.CLASS_NAME, 'viewAllHeader')):\n",
        "            category_page = cat.find_element(By.CLASS_NAME, 'viewAllHeader')\n",
        "            print(department_name + ' | ' + category_name + ' | ' + category_page.text)\n",
        "            print(category_page.get_attribute('href'))\n",
        "            print('********')\n",
        "            page_config = conf.copy()            \n",
        "            page_config['department'] = department_name\n",
        "            page_config['category'] = category_name\n",
        "            page_config['page'] = category_page.text\n",
        "            page_config['page_url'] = category_page.get_attribute('href')\n",
        "            page_config['file_name'] = getFilename(page_config)\n",
        "            page_configs.append(page_config)\n",
        "#             print(page_config)\n",
        "            \n",
        "            \n",
        "            pages = cat.find_elements(By.CLASS_NAME, 'menuLink')\n",
        "            for page in pages[1:]:\n",
        "                try:\n",
        "                    action = ActionChains(driver)\n",
        "                    action.move_to_element(page).perform()\n",
        "                    time.sleep(0.5)\n",
        "                except Exception as e:\n",
        "                    x=1\n",
        "                print(department_name, ' | ', category_name, ' | ', page.text )\n",
        "                print(page.get_attribute('href'))\n",
        "                print('********')\n",
        "                page_config = conf.copy()            \n",
        "                page_config['department'] = department_name\n",
        "                page_config['category'] = category_name\n",
        "                page_config['page'] = page.text\n",
        "                page_config['page_url'] = page.get_attribute('href')\n",
        "                page_config['file_name'] = getFilename(page_config)\n",
        "                page_configs.append(page_config)\n",
        "#                 print(page_config)\n",
        "        else:\n",
        "            print(department_name + ' | ' + category_name + ' | ' + category_name)\n",
        "            print(cat.find_element(By.CLASS_NAME, 'categoryLinkItem').get_attribute('href'))\n",
        "            print('********')\n",
        "            page_config = conf.copy()            \n",
        "            page_config['department'] = department_name\n",
        "            page_config['category'] = category_name\n",
        "            page_config['page'] = category_name\n",
        "            page_config['page_url'] = cat.find_element(By.CLASS_NAME, 'categoryLinkItem').get_attribute('href')\n",
        "            page_config['file_name'] = getFilename(page_config)\n",
        "            page_configs.append(page_config)\n",
        "#             print(page_config)"
      ]
    },
    {
      "cell_type": "code",
      "execution_count": null,
      "id": "73b3568d",
      "metadata": {},
      "outputs": [],
      "source": [
        "with open(\"bootscom_urls.json\", \"w\") as outfile:\n",
        "        json.dump(page_configs, outfile)"
      ]
    }
  ],
  "metadata": {
    "kernelspec": {
      "display_name": "Python 3 (ipykernel)",
      "language": "python",
      "name": "python3"
    },
    "language_info": {
      "codemirror_mode": {
        "name": "ipython",
        "version": 3
      },
      "file_extension": ".py",
      "mimetype": "text/x-python",
      "name": "python",
      "nbconvert_exporter": "python",
      "pygments_lexer": "ipython3",
      "version": "3.9.9"
    }
  },
  "nbformat": 4,
  "nbformat_minor": 5
}
